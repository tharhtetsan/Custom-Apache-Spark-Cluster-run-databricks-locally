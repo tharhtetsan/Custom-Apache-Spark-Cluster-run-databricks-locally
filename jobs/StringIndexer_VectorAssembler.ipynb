{
 "cells": [
  {
   "cell_type": "code",
   "execution_count": 11,
   "metadata": {},
   "outputs": [],
   "source": [
    "\n",
    "from pyspark.sql import SparkSession\n",
    "from pyspark.ml.feature import OneHotEncoder, StringIndexer, VectorAssembler\n"
   ]
  },
  {
   "cell_type": "code",
   "execution_count": 12,
   "metadata": {},
   "outputs": [],
   "source": [
    "\n",
    "# Initialize Spark session\n",
    "spark = SparkSession.builder.appName(\"spark_sample_test\").master(\"spark://spark-master:7077\") \\\n",
    "        .getOrCreate()"
   ]
  },
  {
   "cell_type": "code",
   "execution_count": 13,
   "metadata": {},
   "outputs": [
    {
     "name": "stdout",
     "output_type": "stream",
     "text": [
      "Original Data:\n"
     ]
    },
    {
     "name": "stderr",
     "output_type": "stream",
     "text": [
      "[Stage 0:>                                                          (0 + 1) / 1]\r"
     ]
    },
    {
     "name": "stdout",
     "output_type": "stream",
     "text": [
      "+-------+------+---+------+\n",
      "|   Name|Gender|Age|Salary|\n",
      "+-------+------+---+------+\n",
      "|  Alice|Female| 29|  3000|\n",
      "|    Bob|  Male| 34|  4000|\n",
      "|Charlie|Female| 25|  3500|\n",
      "|  David|  Male| 40|  4500|\n",
      "|    Eve|Female| 30|  3200|\n",
      "+-------+------+---+------+\n",
      "\n"
     ]
    },
    {
     "name": "stderr",
     "output_type": "stream",
     "text": [
      "                                                                                \r"
     ]
    }
   ],
   "source": [
    "\n",
    "# Sample data in a list format\n",
    "data = [\n",
    "    (\"Alice\", \"Female\", 29, 3000),\n",
    "    (\"Bob\", \"Male\", 34, 4000),\n",
    "    (\"Charlie\", \"Female\", 25, 3500),\n",
    "    (\"David\", \"Male\", 40, 4500),\n",
    "    (\"Eve\", \"Female\", 30, 3200)\n",
    "]\n",
    "\n",
    "# Define column names\n",
    "columns = [\"Name\", \"Gender\", \"Age\", \"Salary\"]\n",
    "\n",
    "# Create a DataFrame\n",
    "df = spark.createDataFrame(data, columns)\n",
    "\n",
    "# Show the original DataFrame\n",
    "print(\"Original Data:\")\n",
    "df.show()"
   ]
  },
  {
   "cell_type": "code",
   "execution_count": 14,
   "metadata": {},
   "outputs": [
    {
     "name": "stderr",
     "output_type": "stream",
     "text": [
      "                                                                                \r"
     ]
    },
    {
     "name": "stdout",
     "output_type": "stream",
     "text": [
      "After StringIndexer (Gender -> GenderIndex):\n",
      "+-------+------+---+------+-----------+\n",
      "|   Name|Gender|Age|Salary|GenderIndex|\n",
      "+-------+------+---+------+-----------+\n",
      "|  Alice|Female| 29|  3000|        0.0|\n",
      "|    Bob|  Male| 34|  4000|        1.0|\n",
      "|Charlie|Female| 25|  3500|        0.0|\n",
      "|  David|  Male| 40|  4500|        1.0|\n",
      "|    Eve|Female| 30|  3200|        0.0|\n",
      "+-------+------+---+------+-----------+\n",
      "\n"
     ]
    }
   ],
   "source": [
    "\n",
    "# Step 1: Index the \"Gender\" column (convert categorical data to numerical)\n",
    "indexer = StringIndexer(inputCol=\"Gender\", outputCol=\"GenderIndex\")\n",
    "df_indexed = indexer.fit(df).transform(df)\n",
    "\n",
    "print(\"After StringIndexer (Gender -> GenderIndex):\")\n",
    "df_indexed.show()"
   ]
  },
  {
   "cell_type": "code",
   "execution_count": 15,
   "metadata": {},
   "outputs": [
    {
     "name": "stdout",
     "output_type": "stream",
     "text": [
      "After OneHotEncoder (GenderIndex -> GenderVec):\n",
      "+-------+------+---+------+-----------+-------------+\n",
      "|   Name|Gender|Age|Salary|GenderIndex|    GenderVec|\n",
      "+-------+------+---+------+-----------+-------------+\n",
      "|  Alice|Female| 29|  3000|        0.0|(1,[0],[1.0])|\n",
      "|    Bob|  Male| 34|  4000|        1.0|    (1,[],[])|\n",
      "|Charlie|Female| 25|  3500|        0.0|(1,[0],[1.0])|\n",
      "|  David|  Male| 40|  4500|        1.0|    (1,[],[])|\n",
      "|    Eve|Female| 30|  3200|        0.0|(1,[0],[1.0])|\n",
      "+-------+------+---+------+-----------+-------------+\n",
      "\n"
     ]
    }
   ],
   "source": [
    "\n",
    "# Step 2: One-hot encode the \"GenderIndex\" column\n",
    "encoder = OneHotEncoder(inputCol=\"GenderIndex\", outputCol=\"GenderVec\")\n",
    "df_encoded = encoder.fit(df_indexed).transform(df_indexed)\n",
    "\n",
    "print(\"After OneHotEncoder (GenderIndex -> GenderVec):\")\n",
    "df_encoded.show()"
   ]
  },
  {
   "cell_type": "code",
   "execution_count": 16,
   "metadata": {},
   "outputs": [
    {
     "name": "stdout",
     "output_type": "stream",
     "text": [
      "After VectorAssembler (Assembled Features):\n",
      "+-------+-----------------+\n",
      "|Name   |features         |\n",
      "+-------+-----------------+\n",
      "|Alice  |[29.0,3000.0,1.0]|\n",
      "|Bob    |[34.0,4000.0,0.0]|\n",
      "|Charlie|[25.0,3500.0,1.0]|\n",
      "|David  |[40.0,4500.0,0.0]|\n",
      "|Eve    |[30.0,3200.0,1.0]|\n",
      "+-------+-----------------+\n",
      "\n"
     ]
    }
   ],
   "source": [
    "# Step 3: Assemble the features (Age, Salary, and GenderVec) into a single feature vector\n",
    "assembler = VectorAssembler(\n",
    "    inputCols=[\"Age\", \"Salary\", \"GenderVec\"],  # Input features\n",
    "    outputCol=\"features\"  # Output column with assembled vector\n",
    ")\n",
    "\n",
    "df_final = assembler.transform(df_encoded)\n",
    "\n",
    "print(\"After VectorAssembler (Assembled Features):\")\n",
    "df_final.select(\"Name\", \"features\").show(truncate=False)\n",
    "\n",
    "# Stop the Spark session\n",
    "spark.stop()"
   ]
  },
  {
   "cell_type": "code",
   "execution_count": null,
   "metadata": {},
   "outputs": [],
   "source": []
  },
  {
   "cell_type": "code",
   "execution_count": null,
   "metadata": {},
   "outputs": [],
   "source": []
  },
  {
   "cell_type": "code",
   "execution_count": null,
   "metadata": {},
   "outputs": [],
   "source": []
  }
 ],
 "metadata": {
  "kernelspec": {
   "display_name": "Python 3",
   "language": "python",
   "name": "python3"
  },
  "language_info": {
   "codemirror_mode": {
    "name": "ipython",
    "version": 3
   },
   "file_extension": ".py",
   "mimetype": "text/x-python",
   "name": "python",
   "nbconvert_exporter": "python",
   "pygments_lexer": "ipython3",
   "version": "3.12.7"
  }
 },
 "nbformat": 4,
 "nbformat_minor": 2
}
