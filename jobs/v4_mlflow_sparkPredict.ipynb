{
 "cells": [
  {
   "cell_type": "code",
   "execution_count": 1,
   "id": "cb96bb54",
   "metadata": {},
   "outputs": [],
   "source": [
    "import sklearn\n",
    "import mlflow\n",
    "import time\n",
    "import seaborn as sns\n",
    "from sklearn.model_selection import train_test_split\n",
    "from sklearn.metrics import mean_squared_error\n",
    "from sklearn.ensemble import RandomForestRegressor"
   ]
  },
  {
   "cell_type": "code",
   "execution_count": 2,
   "id": "15162e25",
   "metadata": {},
   "outputs": [],
   "source": [
    "import pandas as pd"
   ]
  },
  {
   "cell_type": "code",
   "execution_count": 3,
   "id": "435b150b",
   "metadata": {},
   "outputs": [],
   "source": [
    "mlflow_uri = \"http://mlflow-server:8888\"\n",
    "mlflow.set_tracking_uri(mlflow_uri)\n",
    "time.sleep(5)"
   ]
  },
  {
   "cell_type": "code",
   "execution_count": 4,
   "id": "0e580331",
   "metadata": {},
   "outputs": [
    {
     "name": "stdout",
     "output_type": "stream",
     "text": [
      "<class 'pandas.core.frame.DataFrame'>\n"
     ]
    },
    {
     "data": {
      "text/html": [
       "<div>\n",
       "<style scoped>\n",
       "    .dataframe tbody tr th:only-of-type {\n",
       "        vertical-align: middle;\n",
       "    }\n",
       "\n",
       "    .dataframe tbody tr th {\n",
       "        vertical-align: top;\n",
       "    }\n",
       "\n",
       "    .dataframe thead th {\n",
       "        text-align: right;\n",
       "    }\n",
       "</style>\n",
       "<table border=\"1\" class=\"dataframe\">\n",
       "  <thead>\n",
       "    <tr style=\"text-align: right;\">\n",
       "      <th></th>\n",
       "      <th>carat</th>\n",
       "      <th>depth</th>\n",
       "      <th>table</th>\n",
       "      <th>x</th>\n",
       "      <th>y</th>\n",
       "      <th>z</th>\n",
       "    </tr>\n",
       "  </thead>\n",
       "  <tbody>\n",
       "    <tr>\n",
       "      <th>35965</th>\n",
       "      <td>0.25</td>\n",
       "      <td>64.9</td>\n",
       "      <td>58.0</td>\n",
       "      <td>3.95</td>\n",
       "      <td>3.97</td>\n",
       "      <td>2.57</td>\n",
       "    </tr>\n",
       "    <tr>\n",
       "      <th>52281</th>\n",
       "      <td>0.84</td>\n",
       "      <td>61.8</td>\n",
       "      <td>56.0</td>\n",
       "      <td>6.04</td>\n",
       "      <td>6.07</td>\n",
       "      <td>3.74</td>\n",
       "    </tr>\n",
       "    <tr>\n",
       "      <th>6957</th>\n",
       "      <td>1.05</td>\n",
       "      <td>61.1</td>\n",
       "      <td>58.0</td>\n",
       "      <td>6.56</td>\n",
       "      <td>6.51</td>\n",
       "      <td>3.99</td>\n",
       "    </tr>\n",
       "    <tr>\n",
       "      <th>9163</th>\n",
       "      <td>1.02</td>\n",
       "      <td>60.7</td>\n",
       "      <td>56.0</td>\n",
       "      <td>6.53</td>\n",
       "      <td>6.50</td>\n",
       "      <td>3.95</td>\n",
       "    </tr>\n",
       "    <tr>\n",
       "      <th>50598</th>\n",
       "      <td>0.61</td>\n",
       "      <td>61.8</td>\n",
       "      <td>57.0</td>\n",
       "      <td>5.43</td>\n",
       "      <td>5.47</td>\n",
       "      <td>3.37</td>\n",
       "    </tr>\n",
       "  </tbody>\n",
       "</table>\n",
       "</div>"
      ],
      "text/plain": [
       "       carat  depth  table     x     y     z\n",
       "35965   0.25   64.9   58.0  3.95  3.97  2.57\n",
       "52281   0.84   61.8   56.0  6.04  6.07  3.74\n",
       "6957    1.05   61.1   58.0  6.56  6.51  3.99\n",
       "9163    1.02   60.7   56.0  6.53  6.50  3.95\n",
       "50598   0.61   61.8   57.0  5.43  5.47  3.37"
      ]
     },
     "execution_count": 4,
     "metadata": {},
     "output_type": "execute_result"
    }
   ],
   "source": [
    "diamonds_df = sns.load_dataset('diamonds').drop(['cut', 'color', 'clarity'], axis=1)\n",
    "#\n",
    "X_train, X_test, y_train, y_test = train_test_split(diamonds_df.drop([\"price\"], axis=1), diamonds_df[\"price\"], random_state=42)\n",
    "print(type(X_train))\n",
    "X_train.head()"
   ]
  },
  {
   "cell_type": "code",
   "execution_count": 5,
   "id": "3c334524",
   "metadata": {},
   "outputs": [
    {
     "name": "stderr",
     "output_type": "stream",
     "text": [
      "Setting default log level to \"WARN\".\n",
      "To adjust logging level use sc.setLogLevel(newLevel). For SparkR, use setLogLevel(newLevel).\n",
      "25/06/06 11:04:52 WARN NativeCodeLoader: Unable to load native-hadoop library for your platform... using builtin-java classes where applicable\n"
     ]
    }
   ],
   "source": [
    "from pyspark.sql import SparkSession\n",
    "spark = SparkSession.builder \\\n",
    "    .appName(\"mlflow_predict\").master(\"spark://spark-master:7077\") \\\n",
    "    .getOrCreate()"
   ]
  },
  {
   "cell_type": "code",
   "execution_count": null,
   "id": "0f128ec2",
   "metadata": {},
   "outputs": [],
   "source": []
  },
  {
   "cell_type": "code",
   "execution_count": 6,
   "id": "2fa5f7f4",
   "metadata": {},
   "outputs": [
    {
     "data": {
      "text/html": [
       "<div>\n",
       "<style scoped>\n",
       "    .dataframe tbody tr th:only-of-type {\n",
       "        vertical-align: middle;\n",
       "    }\n",
       "\n",
       "    .dataframe tbody tr th {\n",
       "        vertical-align: top;\n",
       "    }\n",
       "\n",
       "    .dataframe thead th {\n",
       "        text-align: right;\n",
       "    }\n",
       "</style>\n",
       "<table border=\"1\" class=\"dataframe\">\n",
       "  <thead>\n",
       "    <tr style=\"text-align: right;\">\n",
       "      <th></th>\n",
       "      <th>carat</th>\n",
       "      <th>depth</th>\n",
       "      <th>table</th>\n",
       "      <th>x</th>\n",
       "      <th>y</th>\n",
       "      <th>z</th>\n",
       "    </tr>\n",
       "  </thead>\n",
       "  <tbody>\n",
       "    <tr>\n",
       "      <th>1388</th>\n",
       "      <td>0.24</td>\n",
       "      <td>62.1</td>\n",
       "      <td>56.0</td>\n",
       "      <td>3.97</td>\n",
       "      <td>4.00</td>\n",
       "      <td>2.47</td>\n",
       "    </tr>\n",
       "    <tr>\n",
       "      <th>50052</th>\n",
       "      <td>0.58</td>\n",
       "      <td>60.0</td>\n",
       "      <td>57.0</td>\n",
       "      <td>5.44</td>\n",
       "      <td>5.42</td>\n",
       "      <td>3.26</td>\n",
       "    </tr>\n",
       "    <tr>\n",
       "      <th>41645</th>\n",
       "      <td>0.40</td>\n",
       "      <td>62.1</td>\n",
       "      <td>55.0</td>\n",
       "      <td>4.76</td>\n",
       "      <td>4.74</td>\n",
       "      <td>2.95</td>\n",
       "    </tr>\n",
       "    <tr>\n",
       "      <th>42377</th>\n",
       "      <td>0.43</td>\n",
       "      <td>60.8</td>\n",
       "      <td>57.0</td>\n",
       "      <td>4.92</td>\n",
       "      <td>4.89</td>\n",
       "      <td>2.98</td>\n",
       "    </tr>\n",
       "    <tr>\n",
       "      <th>17244</th>\n",
       "      <td>1.55</td>\n",
       "      <td>62.3</td>\n",
       "      <td>55.0</td>\n",
       "      <td>7.44</td>\n",
       "      <td>7.37</td>\n",
       "      <td>4.61</td>\n",
       "    </tr>\n",
       "  </tbody>\n",
       "</table>\n",
       "</div>"
      ],
      "text/plain": [
       "       carat  depth  table     x     y     z\n",
       "1388    0.24   62.1   56.0  3.97  4.00  2.47\n",
       "50052   0.58   60.0   57.0  5.44  5.42  3.26\n",
       "41645   0.40   62.1   55.0  4.76  4.74  2.95\n",
       "42377   0.43   60.8   57.0  4.92  4.89  2.98\n",
       "17244   1.55   62.3   55.0  7.44  7.37  4.61"
      ]
     },
     "execution_count": 6,
     "metadata": {},
     "output_type": "execute_result"
    }
   ],
   "source": [
    "temp_df = X_test.copy()\n",
    "temp_df.head()"
   ]
  },
  {
   "cell_type": "code",
   "execution_count": 7,
   "id": "797ee1bc",
   "metadata": {},
   "outputs": [
    {
     "name": "stderr",
     "output_type": "stream",
     "text": [
      "/usr/local/lib/python3.11/site-packages/tqdm/auto.py:21: TqdmWarning: IProgress not found. Please update jupyter and ipywidgets. See https://ipywidgets.readthedocs.io/en/stable/user_install.html\n",
      "  from .autonotebook import tqdm as notebook_tqdm\n",
      "Downloading artifacts: 100%|██████████| 5/5 [00:00<00:00, 73.40it/s]  \n",
      "2025/06/06 11:04:53 WARNING mlflow.pyfunc: Calling `spark_udf()` with `env_manager=\"local\"` does not recreate the same environment that was used during training, which may lead to errors or inaccurate predictions. We recommend specifying `env_manager=\"conda\"`, which automatically recreates the environment that was used to train the model and performs inference in the recreated environment.\n",
      "Downloading artifacts: 100%|██████████| 5/5 [00:00<00:00, 1040.72it/s]\n",
      "2025/06/06 11:04:53 INFO mlflow.models.flavor_backend_registry: Selected backend for flavor 'python_function'\n"
     ]
    }
   ],
   "source": [
    "# logged_model = 'runs:/38b7f28742a445409b736240a2a8042f/model'\n",
    "logged_model= 'runs:/264000fa54314d598db2cf6f634dd78b/model'\n",
    "\n",
    "\n",
    "# Load the model as a Spark UDF\n",
    "loaded_model = mlflow.pyfunc.spark_udf(spark, model_uri=logged_model)\n"
   ]
  },
  {
   "cell_type": "code",
   "execution_count": 8,
   "id": "40cf3e08",
   "metadata": {},
   "outputs": [
    {
     "name": "stdout",
     "output_type": "stream",
     "text": [
      "<class 'pyspark.sql.dataframe.DataFrame'>\n"
     ]
    },
    {
     "name": "stderr",
     "output_type": "stream",
     "text": [
      "                                                                                \r"
     ]
    },
    {
     "name": "stdout",
     "output_type": "stream",
     "text": [
      "+-----+-----+-----+----+----+----+\n",
      "|carat|depth|table|   x|   y|   z|\n",
      "+-----+-----+-----+----+----+----+\n",
      "| 0.24| 62.1| 56.0|3.97| 4.0|2.47|\n",
      "| 0.58| 60.0| 57.0|5.44|5.42|3.26|\n",
      "|  0.4| 62.1| 55.0|4.76|4.74|2.95|\n",
      "| 0.43| 60.8| 57.0|4.92|4.89|2.98|\n",
      "| 1.55| 62.3| 55.0|7.44|7.37|4.61|\n",
      "|  1.0| 55.4| 62.0|6.63|6.59|3.66|\n",
      "| 0.51| 60.2| 56.0|5.22|5.24|3.15|\n",
      "| 0.52| 62.0| 56.0|5.17|5.19|3.21|\n",
      "| 0.62| 60.0| 59.0|5.58|5.56|3.34|\n",
      "| 1.14| 60.3| 57.0|6.79|6.85|4.11|\n",
      "|  0.4| 62.8| 56.0|4.73| 4.7|2.96|\n",
      "| 1.83| 62.8| 56.0|7.76|7.82|4.89|\n",
      "|  0.6| 55.3| 63.0|5.67|5.61|3.12|\n",
      "|  0.7| 63.5| 56.0|5.58|5.66|3.57|\n",
      "| 0.53| 61.2| 65.0|5.16|5.27|3.19|\n",
      "| 1.55| 61.2| 55.0|7.49|7.47|4.58|\n",
      "| 0.98| 61.6| 66.0|6.46|6.24|3.92|\n",
      "|  0.4| 62.6| 56.0|4.73| 4.7|2.95|\n",
      "|  1.5| 62.8| 56.0|7.26|7.33|4.58|\n",
      "| 0.35| 60.7| 62.0|4.53|4.59|2.77|\n",
      "+-----+-----+-----+----+----+----+\n",
      "only showing top 20 rows\n",
      "\n"
     ]
    }
   ],
   "source": [
    "from pyspark.sql.functions import struct, col\n",
    "df = spark.createDataFrame(temp_df)\n",
    "print(type(df))\n",
    "df.show()"
   ]
  },
  {
   "cell_type": "code",
   "execution_count": 9,
   "id": "89e6ab1c",
   "metadata": {},
   "outputs": [
    {
     "name": "stderr",
     "output_type": "stream",
     "text": [
      "[Stage 1:>                                                          (0 + 1) / 1]\r"
     ]
    },
    {
     "name": "stdout",
     "output_type": "stream",
     "text": [
      "+-----+-----+-----+----+----+----+--------------------+\n",
      "|carat|depth|table|   x|   y|   z|         predictions|\n",
      "+-----+-----+-----+----+----+----+--------------------+\n",
      "| 0.24| 62.1| 56.0|3.97| 4.0|2.47|[499.46524777281684]|\n",
      "| 0.58| 60.0| 57.0|5.44|5.42|3.26|[1770.8910964268757]|\n",
      "|  0.4| 62.1| 55.0|4.76|4.74|2.95|[1016.5741870113009]|\n",
      "| 0.43| 60.8| 57.0|4.92|4.89|2.98|[1062.2121713852703]|\n",
      "| 1.55| 62.3| 55.0|7.44|7.37|4.61|[11199.816620678614]|\n",
      "|  1.0| 55.4| 62.0|6.63|6.59|3.66|[4467.1252610300235]|\n",
      "| 0.51| 60.2| 56.0|5.22|5.24|3.15|[1707.3808620955772]|\n",
      "| 0.52| 62.0| 56.0|5.17|5.19|3.21|[1727.0030647988162]|\n",
      "| 0.62| 60.0| 59.0|5.58|5.56|3.34|[2159.1935709093577]|\n",
      "| 1.14| 60.3| 57.0|6.79|6.85|4.11| [7678.507135442683]|\n",
      "|  0.4| 62.8| 56.0|4.73| 4.7|2.96|  [981.936803967939]|\n",
      "| 1.83| 62.8| 56.0|7.76|7.82|4.89|[12673.807236673114]|\n",
      "|  0.6| 55.3| 63.0|5.67|5.61|3.12|[1733.5521919965825]|\n",
      "|  0.7| 63.5| 56.0|5.58|5.66|3.57| [2440.946265601723]|\n",
      "| 0.53| 61.2| 65.0|5.16|5.27|3.19|[1639.1816758036837]|\n",
      "| 1.55| 61.2| 55.0|7.49|7.47|4.58|[11405.873890649953]|\n",
      "| 0.98| 61.6| 66.0|6.46|6.24|3.92| [3694.996351179905]|\n",
      "|  0.4| 62.6| 56.0|4.73| 4.7|2.95| [989.6034191569107]|\n",
      "|  1.5| 62.8| 56.0|7.26|7.33|4.58| [10973.31184837122]|\n",
      "| 0.35| 60.7| 62.0|4.53|4.59|2.77| [735.0222199521157]|\n",
      "+-----+-----+-----+----+----+----+--------------------+\n",
      "only showing top 20 rows\n",
      "\n"
     ]
    },
    {
     "name": "stderr",
     "output_type": "stream",
     "text": [
      "                                                                                \r"
     ]
    }
   ],
   "source": [
    "# Predict on DataFrame using the loaded UDF\n",
    "df_with_preds = df.withColumn('predictions', loaded_model(struct(*map(col, df.columns))))\n",
    "\n",
    "# Show results\n",
    "df_with_preds.show()"
   ]
  },
  {
   "cell_type": "code",
   "execution_count": 10,
   "id": "91a20a29",
   "metadata": {},
   "outputs": [],
   "source": [
    "spark.stop()"
   ]
  },
  {
   "cell_type": "code",
   "execution_count": null,
   "id": "5e952c3a",
   "metadata": {},
   "outputs": [],
   "source": []
  },
  {
   "cell_type": "code",
   "execution_count": null,
   "id": "1af71519",
   "metadata": {},
   "outputs": [],
   "source": []
  }
 ],
 "metadata": {
  "kernelspec": {
   "display_name": "Python 3",
   "language": "python",
   "name": "python3"
  },
  "language_info": {
   "codemirror_mode": {
    "name": "ipython",
    "version": 3
   },
   "file_extension": ".py",
   "mimetype": "text/x-python",
   "name": "python",
   "nbconvert_exporter": "python",
   "pygments_lexer": "ipython3",
   "version": "3.11.13"
  }
 },
 "nbformat": 4,
 "nbformat_minor": 5
}
