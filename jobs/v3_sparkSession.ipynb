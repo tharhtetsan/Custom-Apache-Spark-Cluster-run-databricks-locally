{
 "cells": [
  {
   "cell_type": "code",
   "execution_count": 52,
   "metadata": {},
   "outputs": [],
   "source": [
    "import numpy as np\n",
    "import pandas as pd\n",
    "import pyspark.pandas as ps"
   ]
  },
  {
   "cell_type": "markdown",
   "metadata": {},
   "source": [
    "### Set Spark Cluster"
   ]
  },
  {
   "cell_type": "code",
   "execution_count": 53,
   "metadata": {},
   "outputs": [
    {
     "name": "stderr",
     "output_type": "stream",
     "text": [
      "24/10/31 14:07:36 WARN SparkSession: Using an existing Spark session; only runtime SQL configurations will take effect.\n"
     ]
    }
   ],
   "source": [
    "from pyspark.sql import SparkSession\n",
    "spark = SparkSession.builder.appName(\"v3_sparkSession\").master(\"spark://spark-master:7077\") \\\n",
    "        .getOrCreate()"
   ]
  },
  {
   "cell_type": "code",
   "execution_count": 54,
   "metadata": {},
   "outputs": [],
   "source": [
    "# Create pandas series...\n",
    "psdf = ps.DataFrame({\n",
    "    \"year\" : [1990,1997,2003,2009,2014],\n",
    "    \"rabbit\" : [20,18,489,675,1776],\n",
    "    \"horse\" : [4,25,281,600,1900]\n",
    "})\n",
    "\n",
    "pdf = pd.DataFrame({\n",
    "    \"year\" : [1990,1997,2003,2009,2014],\n",
    "    \"sheep\" : [22,50,121,445,791],\n",
    "    \"chicken\": [250,326,589,1241,2118]\n",
    "    })"
   ]
  },
  {
   "cell_type": "code",
   "execution_count": 55,
   "metadata": {},
   "outputs": [
    {
     "name": "stdout",
     "output_type": "stream",
     "text": [
      "psdf :  <class 'pyspark.pandas.frame.DataFrame'>\n"
     ]
    }
   ],
   "source": [
    "print(\"psdf : \",type(psdf))"
   ]
  },
  {
   "cell_type": "markdown",
   "metadata": {},
   "source": [
    "### Apply SQL on Pandas on SparkAPI"
   ]
  },
  {
   "cell_type": "code",
   "execution_count": 56,
   "metadata": {},
   "outputs": [
    {
     "data": {
      "text/html": [
       "<div>\n",
       "<style scoped>\n",
       "    .dataframe tbody tr th:only-of-type {\n",
       "        vertical-align: middle;\n",
       "    }\n",
       "\n",
       "    .dataframe tbody tr th {\n",
       "        vertical-align: top;\n",
       "    }\n",
       "\n",
       "    .dataframe thead th {\n",
       "        text-align: right;\n",
       "    }\n",
       "</style>\n",
       "<table border=\"1\" class=\"dataframe\">\n",
       "  <thead>\n",
       "    <tr style=\"text-align: right;\">\n",
       "      <th></th>\n",
       "      <th>year</th>\n",
       "      <th>rabbit</th>\n",
       "      <th>horse</th>\n",
       "    </tr>\n",
       "  </thead>\n",
       "  <tbody>\n",
       "    <tr>\n",
       "      <th>0</th>\n",
       "      <td>2003</td>\n",
       "      <td>489</td>\n",
       "      <td>281</td>\n",
       "    </tr>\n",
       "    <tr>\n",
       "      <th>1</th>\n",
       "      <td>2009</td>\n",
       "      <td>675</td>\n",
       "      <td>600</td>\n",
       "    </tr>\n",
       "    <tr>\n",
       "      <th>2</th>\n",
       "      <td>2014</td>\n",
       "      <td>1776</td>\n",
       "      <td>1900</td>\n",
       "    </tr>\n",
       "  </tbody>\n",
       "</table>\n",
       "</div>"
      ],
      "text/plain": [
       "   year  rabbit  horse\n",
       "0  2003     489    281\n",
       "1  2009     675    600\n",
       "2  2014    1776   1900"
      ]
     },
     "execution_count": 56,
     "metadata": {},
     "output_type": "execute_result"
    }
   ],
   "source": [
    "temp_df = ps.sql(\" SELECT * FROM {psdf} WHERE rabbit > 100\", psdf=psdf)\n",
    "temp_df"
   ]
  },
  {
   "cell_type": "code",
   "execution_count": 57,
   "metadata": {},
   "outputs": [
    {
     "data": {
      "text/html": [
       "<div>\n",
       "<style scoped>\n",
       "    .dataframe tbody tr th:only-of-type {\n",
       "        vertical-align: middle;\n",
       "    }\n",
       "\n",
       "    .dataframe tbody tr th {\n",
       "        vertical-align: top;\n",
       "    }\n",
       "\n",
       "    .dataframe thead th {\n",
       "        text-align: right;\n",
       "    }\n",
       "</style>\n",
       "<table border=\"1\" class=\"dataframe\">\n",
       "  <thead>\n",
       "    <tr style=\"text-align: right;\">\n",
       "      <th></th>\n",
       "      <th>year</th>\n",
       "      <th>rabbit</th>\n",
       "      <th>horse</th>\n",
       "    </tr>\n",
       "  </thead>\n",
       "  <tbody>\n",
       "    <tr>\n",
       "      <th>count</th>\n",
       "      <td>3.000000</td>\n",
       "      <td>3.000000</td>\n",
       "      <td>3.000000</td>\n",
       "    </tr>\n",
       "    <tr>\n",
       "      <th>mean</th>\n",
       "      <td>2008.666667</td>\n",
       "      <td>980.000000</td>\n",
       "      <td>927.000000</td>\n",
       "    </tr>\n",
       "    <tr>\n",
       "      <th>std</th>\n",
       "      <td>5.507571</td>\n",
       "      <td>695.601179</td>\n",
       "      <td>857.605387</td>\n",
       "    </tr>\n",
       "    <tr>\n",
       "      <th>min</th>\n",
       "      <td>2003.000000</td>\n",
       "      <td>489.000000</td>\n",
       "      <td>281.000000</td>\n",
       "    </tr>\n",
       "    <tr>\n",
       "      <th>25%</th>\n",
       "      <td>2003.000000</td>\n",
       "      <td>489.000000</td>\n",
       "      <td>281.000000</td>\n",
       "    </tr>\n",
       "    <tr>\n",
       "      <th>50%</th>\n",
       "      <td>2009.000000</td>\n",
       "      <td>675.000000</td>\n",
       "      <td>600.000000</td>\n",
       "    </tr>\n",
       "    <tr>\n",
       "      <th>75%</th>\n",
       "      <td>2014.000000</td>\n",
       "      <td>1776.000000</td>\n",
       "      <td>1900.000000</td>\n",
       "    </tr>\n",
       "    <tr>\n",
       "      <th>max</th>\n",
       "      <td>2014.000000</td>\n",
       "      <td>1776.000000</td>\n",
       "      <td>1900.000000</td>\n",
       "    </tr>\n",
       "  </tbody>\n",
       "</table>\n",
       "</div>"
      ],
      "text/plain": [
       "              year       rabbit        horse\n",
       "count     3.000000     3.000000     3.000000\n",
       "mean   2008.666667   980.000000   927.000000\n",
       "std       5.507571   695.601179   857.605387\n",
       "min    2003.000000   489.000000   281.000000\n",
       "25%    2003.000000   489.000000   281.000000\n",
       "50%    2009.000000   675.000000   600.000000\n",
       "75%    2014.000000  1776.000000  1900.000000\n",
       "max    2014.000000  1776.000000  1900.000000"
      ]
     },
     "execution_count": 57,
     "metadata": {},
     "output_type": "execute_result"
    }
   ],
   "source": [
    "temp_df.describe()"
   ]
  },
  {
   "cell_type": "markdown",
   "metadata": {},
   "source": [
    "### Spark API and PandasOnSpark API Converstion"
   ]
  },
  {
   "cell_type": "code",
   "execution_count": 58,
   "metadata": {},
   "outputs": [
    {
     "name": "stdout",
     "output_type": "stream",
     "text": [
      "spark_df :  <class 'pyspark.sql.dataframe.DataFrame'>\n"
     ]
    },
    {
     "name": "stderr",
     "output_type": "stream",
     "text": [
      "/usr/local/lib/python3.12/site-packages/pyspark/pandas/utils.py:1016: PandasAPIOnSparkAdviceWarning: If `index_col` is not specified for `to_spark`, the existing index is lost when converting to Spark DataFrame.\n",
      "  warnings.warn(message, PandasAPIOnSparkAdviceWarning)\n"
     ]
    },
    {
     "data": {
      "text/plain": [
       "DataFrame[summary: string, year: string, rabbit: string, horse: string]"
      ]
     },
     "execution_count": 58,
     "metadata": {},
     "output_type": "execute_result"
    }
   ],
   "source": [
    "spark_df = temp_df.to_spark()\n",
    "print(\"spark_df : \",type(spark_df))\n",
    "spark_df.describe()"
   ]
  },
  {
   "cell_type": "code",
   "execution_count": 59,
   "metadata": {},
   "outputs": [
    {
     "name": "stdout",
     "output_type": "stream",
     "text": [
      "DataFrame[year: bigint, rabbit: bigint, horse: bigint]\n",
      "+----+------+-----+\n",
      "|year|rabbit|horse|\n",
      "+----+------+-----+\n",
      "|2003|   489|  281|\n",
      "|2009|   675|  600|\n",
      "|2014|  1776| 1900|\n",
      "+----+------+-----+\n",
      "\n"
     ]
    }
   ],
   "source": [
    "print(spark_df)\n",
    "spark_df.show()"
   ]
  },
  {
   "cell_type": "code",
   "execution_count": 60,
   "metadata": {},
   "outputs": [
    {
     "data": {
      "text/plain": [
       "Row(year=2003, rabbit=489, horse=281)"
      ]
     },
     "execution_count": 60,
     "metadata": {},
     "output_type": "execute_result"
    }
   ],
   "source": [
    "spark_df.head()"
   ]
  },
  {
   "cell_type": "code",
   "execution_count": 61,
   "metadata": {},
   "outputs": [
    {
     "name": "stdout",
     "output_type": "stream",
     "text": [
      "pandas_on_spark :  <class 'pyspark.pandas.frame.DataFrame'>\n"
     ]
    },
    {
     "name": "stderr",
     "output_type": "stream",
     "text": [
      "/usr/local/lib/python3.12/site-packages/pyspark/sql/dataframe.py:5725: FutureWarning: DataFrame.to_pandas_on_spark is deprecated. Use DataFrame.pandas_api instead.\n",
      "  warnings.warn(\n"
     ]
    }
   ],
   "source": [
    "pandas_on_spark =spark_df.to_pandas_on_spark()\n",
    "print(\"pandas_on_spark : \",type(pandas_on_spark))"
   ]
  },
  {
   "cell_type": "markdown",
   "metadata": {},
   "source": [
    "### Tracking Spark execution in detail"
   ]
  },
  {
   "cell_type": "code",
   "execution_count": 62,
   "metadata": {},
   "outputs": [
    {
     "name": "stdout",
     "output_type": "stream",
     "text": [
      "== Physical Plan ==\n",
      "*(2) Project [distributed_sequence_id#2394L AS __index_level_0__#2393L, year#2371L, rabbit#2372L, horse#2373L]\n",
      "+- AttachDistributedSequence[distributed_sequence_id#2394L, year#2371L, rabbit#2372L, horse#2373L] Index: distributed_sequence_id#2394L\n",
      "   +- *(1) Project [year#2371L, rabbit#2372L, horse#2373L]\n",
      "      +- *(1) Filter (rabbit#2372L > 100)\n",
      "         +- *(1) Scan ExistingRDD[__index_level_0__#2370L,year#2371L,rabbit#2372L,horse#2373L]\n",
      "\n",
      "\n"
     ]
    }
   ],
   "source": [
    "# check SQL filtered dataframe\n",
    "temp_df.spark.explain()"
   ]
  },
  {
   "cell_type": "code",
   "execution_count": 63,
   "metadata": {},
   "outputs": [
    {
     "name": "stdout",
     "output_type": "stream",
     "text": [
      "== Physical Plan ==\n",
      "*(1) Project [__index_level_0__#2965L, (id#2963L + id#2963L) AS id#2977L]\n",
      "+- *(1) Project [distributed_index() AS __index_level_0__#2965L, id#2963L]\n",
      "   +- *(1) Range (0, 10, step=1, splits=4)\n",
      "\n",
      "\n"
     ]
    }
   ],
   "source": [
    "from pyspark.pandas import option_context\n",
    "\n",
    "with option_context(\n",
    "    \"compute.ops_on_diff_frames\",False,\n",
    "    \"compute.default_index_type\",\"distributed\"\n",
    "):\n",
    "    df = ps.range(10)\n",
    "    df = df + df\n",
    "    df.spark.explain()"
   ]
  },
  {
   "cell_type": "code",
   "execution_count": 64,
   "metadata": {},
   "outputs": [
    {
     "name": "stdout",
     "output_type": "stream",
     "text": [
      "== Physical Plan ==\n",
      "AdaptiveSparkPlan isFinalPlan=false\n",
      "+- InMemoryTableScan [__index_level_0__#2982L, id#2994L]\n",
      "      +- InMemoryRelation [__index_level_0__#2982L, id#2994L, __natural_order__#2985L], StorageLevel(disk, memory, deserialized, 1 replicas)\n",
      "            +- *(1) Project [__index_level_0__#1721L, (id#1719L + id#1719L) AS id#1733L, __natural_order__#1724L]\n",
      "               +- *(1) Project [__index_level_0__#1721L, id#1719L, monotonically_increasing_id() AS __natural_order__#1724L]\n",
      "                  +- *(1) Project [distributed_index() AS __index_level_0__#1721L, id#1719L]\n",
      "                     +- *(1) Range (0, 10, step=1, splits=4)\n",
      "\n",
      "\n",
      "             id\n",
      "0             0\n",
      "1             2\n",
      "8589934592    4\n",
      "8589934593    6\n",
      "8589934594    8\n",
      "17179869184  10\n",
      "17179869185  12\n",
      "25769803776  14\n",
      "25769803777  16\n",
      "25769803778  18\n"
     ]
    },
    {
     "name": "stderr",
     "output_type": "stream",
     "text": [
      "24/10/31 14:07:38 WARN CacheManager: Asked to cache already cached data.\n"
     ]
    }
   ],
   "source": [
    "with option_context(\n",
    "    \"compute.ops_on_diff_frames\",False,\n",
    "    \"compute.default_index_type\",\"distributed\"\n",
    "):\n",
    "    df = ps.range(10)\n",
    "    df = (df + df).spark.cache()\n",
    "    df.spark.explain()\n",
    "    print(df)"
   ]
  },
  {
   "cell_type": "code",
   "execution_count": 65,
   "metadata": {},
   "outputs": [
    {
     "name": "stdout",
     "output_type": "stream",
     "text": [
      "== Physical Plan ==\n",
      "AdaptiveSparkPlan isFinalPlan=false\n",
      "+- InMemoryTableScan [__index_level_0__#2982L, id#3119L]\n",
      "      +- InMemoryRelation [__index_level_0__#2982L, id#3119L, __natural_order__#2985L], StorageLevel(disk, memory, deserialized, 1 replicas)\n",
      "            +- AdaptiveSparkPlan isFinalPlan=false\n",
      "               +- Project [__index_level_0__#2982L, (id#2994L + id#2994L) AS id#3119L, __natural_order__#2985L]\n",
      "                  +- InMemoryTableScan [__index_level_0__#2982L, __natural_order__#2985L, id#2994L]\n",
      "                        +- InMemoryRelation [__index_level_0__#2982L, id#2994L, __natural_order__#2985L], StorageLevel(disk, memory, deserialized, 1 replicas)\n",
      "                              +- *(1) Project [__index_level_0__#1721L, (id#1719L + id#1719L) AS id#1733L, __natural_order__#1724L]\n",
      "                                 +- *(1) Project [__index_level_0__#1721L, id#1719L, monotonically_increasing_id() AS __natural_order__#1724L]\n",
      "                                    +- *(1) Project [distributed_index() AS __index_level_0__#1721L, id#1719L]\n",
      "                                       +- *(1) Range (0, 10, step=1, splits=4)\n",
      "\n",
      "\n",
      "             id\n",
      "0             0\n",
      "1             8\n",
      "8589934592   16\n",
      "8589934593   24\n",
      "8589934594   32\n",
      "17179869184  40\n",
      "17179869185  48\n",
      "25769803776  56\n",
      "25769803777  64\n",
      "25769803778  72\n"
     ]
    }
   ],
   "source": [
    "with (df + df ).spark.cache() as df : \n",
    "    new_df = df+df\n",
    "    df.spark.explain()\n",
    "    print(new_df)"
   ]
  },
  {
   "cell_type": "code",
   "execution_count": null,
   "metadata": {},
   "outputs": [],
   "source": []
  },
  {
   "cell_type": "code",
   "execution_count": null,
   "metadata": {},
   "outputs": [],
   "source": []
  }
 ],
 "metadata": {
  "kernelspec": {
   "display_name": "Python 3",
   "language": "python",
   "name": "python3"
  },
  "language_info": {
   "codemirror_mode": {
    "name": "ipython",
    "version": 3
   },
   "file_extension": ".py",
   "mimetype": "text/x-python",
   "name": "python",
   "nbconvert_exporter": "python",
   "pygments_lexer": "ipython3",
   "version": "3.12.7"
  }
 },
 "nbformat": 4,
 "nbformat_minor": 2
}
