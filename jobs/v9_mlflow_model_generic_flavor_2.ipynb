{
 "cells": [
  {
   "cell_type": "markdown",
   "metadata": {},
   "source": [
    "## TF tensor input model flavors with MLflow Generic Model"
   ]
  },
  {
   "cell_type": "code",
   "execution_count": 21,
   "metadata": {},
   "outputs": [
    {
     "name": "stdout",
     "output_type": "stream",
     "text": [
      "TF Version : 2.19.0\n"
     ]
    }
   ],
   "source": [
    "import numpy as np\n",
    "import tensorflow as tf\n",
    "import mlflow\n",
    "import time\n",
    "import json\n",
    "from mlflow.models import infer_signature\n",
    "print(\"TF Version :\", tf.__version__)"
   ]
  },
  {
   "cell_type": "code",
   "execution_count": 22,
   "metadata": {},
   "outputs": [
    {
     "data": {
      "text/plain": [
       "<Experiment: artifact_location='mlflow-artifacts:/534639398483998411', creation_time=1746780148819, experiment_id='534639398483998411', last_update_time=1746780148819, lifecycle_stage='active', name='test_new', tags={}>"
      ]
     },
     "execution_count": 22,
     "metadata": {},
     "output_type": "execute_result"
    }
   ],
   "source": [
    "mlflow_uri = \"http://mlflow-server:8888\"\n",
    "mlflow.set_tracking_uri(mlflow_uri)\n",
    "time.sleep(5)\n",
    "#mlflow.set_experiment(mlflow_uri)\n",
    "mlflow.set_experiment(\"test_new\")"
   ]
  },
  {
   "cell_type": "code",
   "execution_count": 23,
   "metadata": {},
   "outputs": [
    {
     "name": "stdout",
     "output_type": "stream",
     "text": [
      "(60000, 28, 28)\n",
      "(60000,)\n",
      "(10000, 28, 28)\n",
      "(10000,)\n"
     ]
    }
   ],
   "source": [
    "mnist = tf.keras.datasets.mnist\n",
    "\n",
    "(x_train, y_train) , (x_test,y_test) = mnist.load_data()\n",
    "x_train,x_test =  x_train/255.0 , x_test/255.0\n",
    "\n",
    "print(x_train.shape)\n",
    "print(y_train.shape)\n",
    "\n",
    "print(x_test.shape)\n",
    "print(y_test.shape)\n"
   ]
  },
  {
   "cell_type": "code",
   "execution_count": 24,
   "metadata": {},
   "outputs": [
    {
     "data": {
      "text/plain": [
       "<matplotlib.image.AxesImage at 0xfffef11c6c90>"
      ]
     },
     "execution_count": 24,
     "metadata": {},
     "output_type": "execute_result"
    },
    {
     "data": {
      "image/png": "[encoded data removed]",
      "text/plain": [
       "<Figure size 640x480 with 1 Axes>"
      ]
     },
     "metadata": {},
     "output_type": "display_data"
    }
   ],
   "source": [
    "import matplotlib.pyplot as plt\n",
    "plt.imshow(x_train[0])"
   ]
  },
  {
   "cell_type": "code",
   "execution_count": 25,
   "metadata": {},
   "outputs": [
    {
     "name": "stderr",
     "output_type": "stream",
     "text": [
      "/usr/local/lib/python3.12/site-packages/mlflow/pyfunc/utils/data_validation.py:186: UserWarning: \u001b[33mAdd type hints to the `predict` method to enable data validation and automatic signature inference during model logging. Check https://mlflow.org/docs/latest/model/python_model.html#type-hint-usage-in-pythonmodel for more details.\u001b[0m\n",
      "  color_warning(\n"
     ]
    }
   ],
   "source": [
    "import json\n",
    "class custom_tf_model(mlflow.pyfunc.PythonModel):\n",
    "    def __init__(self,params):\n",
    "        self.params = params\n",
    "        self.tf_model = None\n",
    "        self.config = None\n",
    "\n",
    "    def load_context(self, context = None, config_path = None):\n",
    "        if context:\n",
    "            config_path = context.artifacts[\"config_path\"]\n",
    "            \n",
    "        else:\n",
    "            pass\n",
    "        self.config = json.load(open(config_path))\n",
    "\n",
    "    \n",
    "    def fit(self,x_train,y_train):\n",
    "        tf_model,eval_loss,eval_acc = self.train_model()\n",
    "        self.tf_model = tf_model\n",
    "\n",
    "    def predict(self, context, model_input):\n",
    "        return self.tf_model.predict(model_input)\n",
    "    \n",
    "\n",
    "    def train_model(self,p_epoch=2, p_optimizer = \"Adam\", l1_noNode= 32, l1_activation=\"relu\",l1_dropout= 0.2):\n",
    "        loss_func = tf.keras.losses.SparseCategoricalCrossentropy(from_logits=True)\n",
    "        model = tf.keras.models.Sequential([\n",
    "            tf.keras.layers.Flatten(input_shape=(28, 28)),\n",
    "            tf.keras.layers.Dense(l1_noNode,activation=l1_activation),\n",
    "            tf.keras.layers.Dropout(l1_dropout),\n",
    "            tf.keras.layers.Dense(10)\n",
    "        ])\n",
    "\n",
    "        model.compile(optimizer = p_optimizer,loss= loss_func, metrics = ['accuracy'])\n",
    "\n",
    "        model.fit(x_train,y_train,epochs = p_epoch)\n",
    "\n",
    "        eval_loss, eval_acc = model.evaluate(x_test,y_test,verbose=2)\n",
    "\n",
    "\n",
    "        print(f\"eval_loss : {eval_loss} | eval_acc : {eval_acc}\")\n",
    "\n",
    "        return model,eval_loss,eval_acc\n",
    "        \n",
    "\n",
    "\n"
   ]
  },
  {
   "cell_type": "code",
   "execution_count": 26,
   "metadata": {},
   "outputs": [
    {
     "name": "stderr",
     "output_type": "stream",
     "text": [
      "/usr/local/lib/python3.12/site-packages/keras/src/layers/reshaping/flatten.py:37: UserWarning: Do not pass an `input_shape`/`input_dim` argument to a layer. When using Sequential models, prefer using an `Input(shape)` object as the first layer in the model instead.\n",
      "  super().__init__(**kwargs)\n"
     ]
    },
    {
     "name": "stdout",
     "output_type": "stream",
     "text": [
      "Epoch 1/2\n",
      "\u001b[1m1875/1875\u001b[0m \u001b[32m━━━━━━━━━━━━━━━━━━━━\u001b[0m\u001b[37m\u001b[0m \u001b[1m2s\u001b[0m 664us/step - accuracy: 0.7877 - loss: 0.7045\n",
      "Epoch 2/2\n",
      "\u001b[1m1875/1875\u001b[0m \u001b[32m━━━━━━━━━━━━━━━━━━━━\u001b[0m\u001b[37m\u001b[0m \u001b[1m1s\u001b[0m 557us/step - accuracy: 0.9149 - loss: 0.2870\n",
      "313/313 - 0s - 657us/step - accuracy: 0.9501 - loss: 0.1733\n",
      "eval_loss : 0.173267662525177 | eval_acc : 0.9501000046730042\n"
     ]
    }
   ],
   "source": [
    "config_path = \"data_tf.json\"\n",
    "params_ = {\n",
    "    \"epochs\" : 5\n",
    "}\n",
    "custom_tf_obj = custom_tf_model(params_)\n",
    "custom_tf_obj.load_context(config_path=config_path)\n",
    "custom_tf_obj.fit(x_train=x_train,y_train=y_train)"
   ]
  },
  {
   "cell_type": "code",
   "execution_count": 27,
   "metadata": {},
   "outputs": [
    {
     "data": {
      "text/plain": [
       "{'channels': ['defaults'],\n",
       " 'dependencies': ['python=3.12.10',\n",
       "  'pip',\n",
       "  {'pip': ['mlflow', 'tensorflow==2.19.0']}],\n",
       " 'name': 'tf_env'}"
      ]
     },
     "execution_count": 27,
     "metadata": {},
     "output_type": "execute_result"
    }
   ],
   "source": [
    "from sys import version_info\n",
    "conda_env_tf = {\n",
    "    \"channels\": [\"defaults\"],\n",
    "    \"dependencies\": [\n",
    "        f\"python={version_info.major}.{version_info.minor}.{version_info.micro}\",\n",
    "        \"pip\",\n",
    "        {\"pip\": [\"mlflow\",\n",
    "                 f\"tensorflow=={tf.__version__}\"]\n",
    "        },\n",
    "    ],\n",
    "    \"name\": \"tf_env\"\n",
    "}\n",
    "conda_env_tf"
   ]
  },
  {
   "cell_type": "code",
   "execution_count": 28,
   "metadata": {},
   "outputs": [
    {
     "name": "stdout",
     "output_type": "stream",
     "text": [
      "\u001b[1m313/313\u001b[0m \u001b[32m━━━━━━━━━━━━━━━━━━━━\u001b[0m\u001b[37m\u001b[0m \u001b[1m0s\u001b[0m 343us/step\n",
      "(10000, 10)\n"
     ]
    }
   ],
   "source": [
    "predictions_tf = custom_tf_obj.predict(context=None,model_input=x_test)\n",
    "print(predictions_tf.shape)\n",
    "model_signature = infer_signature(x_test,predictions_tf)"
   ]
  },
  {
   "cell_type": "code",
   "execution_count": 29,
   "metadata": {},
   "outputs": [
    {
     "data": {
      "text/plain": [
       "inputs: \n",
       "  [Tensor('float64', (-1, 28, 28))]\n",
       "outputs: \n",
       "  [Tensor('float32', (-1, 10))]\n",
       "params: \n",
       "  None"
      ]
     },
     "execution_count": 29,
     "metadata": {},
     "output_type": "execute_result"
    }
   ],
   "source": [
    "type(model_signature)\n",
    "model_signature"
   ]
  },
  {
   "cell_type": "code",
   "execution_count": 30,
   "metadata": {},
   "outputs": [
    {
     "data": {
      "text/plain": [
       "{'config_path': 'data_tf.json'}"
      ]
     },
     "execution_count": 30,
     "metadata": {},
     "output_type": "execute_result"
    }
   ],
   "source": [
    "artifacts_tf = {\n",
    "    \"config_path\" : config_path\n",
    "}\n",
    "artifacts_tf"
   ]
  },
  {
   "cell_type": "code",
   "execution_count": 33,
   "metadata": {},
   "outputs": [
    {
     "data": {
      "text/plain": [
       "{'channels': ['defaults'],\n",
       " 'dependencies': ['python=3.12.10',\n",
       "  'pip',\n",
       "  {'pip': ['mlflow', 'tensorflow==2.19.0']}],\n",
       " 'name': 'tf_env'}"
      ]
     },
     "execution_count": 33,
     "metadata": {},
     "output_type": "execute_result"
    }
   ],
   "source": [
    "conda_env_tf"
   ]
  },
  {
   "cell_type": "code",
   "execution_count": 34,
   "metadata": {},
   "outputs": [
    {
     "name": "stderr",
     "output_type": "stream",
     "text": [
      "2025/05/09 08:51:06 INFO mlflow.pyfunc: Validating input example against model signature\n",
      "/usr/local/lib/python3.12/site-packages/tqdm/auto.py:21: TqdmWarning: IProgress not found. Please update jupyter and ipywidgets. See https://ipywidgets.readthedocs.io/en/stable/user_install.html\n",
      "  from .autonotebook import tqdm as notebook_tqdm\n",
      "Downloading artifacts: 100%|██████████| 1/1 [00:00<00:00, 2473.06it/s]\n"
     ]
    },
    {
     "name": "stdout",
     "output_type": "stream",
     "text": [
      "\u001b[1m1/1\u001b[0m \u001b[32m━━━━━━━━━━━━━━━━━━━━\u001b[0m\u001b[37m\u001b[0m \u001b[1m0s\u001b[0m 30ms/step\n",
      "🏃 View run generic_model3 at: http://mlflow-server:8888/#/experiments/534639398483998411/runs/28f033f60a804e3cbc523a7bd866f343\n",
      "🧪 View experiment at: http://mlflow-server:8888/#/experiments/534639398483998411\n"
     ]
    }
   ],
   "source": [
    "with mlflow.start_run(run_name=\"generic_model3\") as run2:\n",
    "    mlflow.pyfunc.log_model(\n",
    "        \"custom_tf\",\n",
    "        python_model = custom_tf_obj,\n",
    "        artifacts = artifacts_tf,\n",
    "        conda_env = conda_env_tf,\n",
    "        signature = model_signature,\n",
    "        input_example = x_train[0:5]\n",
    "    )"
   ]
  },
  {
   "cell_type": "code",
   "execution_count": 35,
   "metadata": {},
   "outputs": [
    {
     "name": "stderr",
     "output_type": "stream",
     "text": [
      "Downloading artifacts: 100%|██████████| 8/8 [00:01<00:00,  4.70it/s]  \n"
     ]
    }
   ],
   "source": [
    "import mlflow\n",
    "logged_model = 'runs:/28f033f60a804e3cbc523a7bd866f343/custom_tf'\n",
    "\n",
    "# Load model as a PyFuncModel.\n",
    "loaded_model = mlflow.pyfunc.load_model(logged_model)\n",
    "\n"
   ]
  },
  {
   "cell_type": "code",
   "execution_count": 36,
   "metadata": {},
   "outputs": [
    {
     "name": "stdout",
     "output_type": "stream",
     "text": [
      "\u001b[1m1/1\u001b[0m \u001b[32m━━━━━━━━━━━━━━━━━━━━\u001b[0m\u001b[37m\u001b[0m \u001b[1m0s\u001b[0m 34ms/step\n"
     ]
    }
   ],
   "source": [
    "# Predict on a Pandas DataFrame.\n",
    "import pandas as pd\n",
    "result = loaded_model.predict(x_test[:10])"
   ]
  },
  {
   "cell_type": "code",
   "execution_count": null,
   "metadata": {},
   "outputs": [
    {
     "data": {
      "text/plain": [
       "array([[ -4.3955035 ,  -7.048949  ,   0.25928006,   0.43022665,\n",
       "         -7.7559733 ,  -2.5771341 , -14.130099  ,   9.346293  ,\n",
       "         -5.5107727 ,  -0.8487907 ],\n",
       "       [  2.074889  ,  -3.155909  ,   8.88274   ,   2.727293  ,\n",
       "        -12.673247  ,   0.82838815,  -0.21737751,  -9.107767  ,\n",
       "          0.5520878 , -12.104176  ],\n",
       "       [ -5.991908  ,   5.7187624 ,  -0.8011816 ,  -1.2026262 ,\n",
       "         -1.7980468 ,  -4.308145  ,  -1.9653444 ,  -0.13185197,\n",
       "         -0.27181995,  -3.6030943 ],\n",
       "       [  9.958446  , -10.82613   ,  -0.9504436 ,  -4.1992207 ,\n",
       "         -4.5619397 ,   1.1869639 ,   0.26589063,  -1.3704677 ,\n",
       "         -4.014759  ,  -0.9070923 ],\n",
       "       [ -2.219114  ,  -5.8248463 ,  -1.2631512 ,  -5.026081  ,\n",
       "          5.5486293 ,  -1.059973  ,  -2.0788345 ,  -1.4808847 ,\n",
       "         -3.132942  ,   2.6529171 ],\n",
       "       [ -7.502462  ,   6.8547797 ,  -1.5869693 ,  -0.949343  ,\n",
       "         -2.3948193 ,  -6.445119  ,  -4.0327444 ,   0.40362304,\n",
       "          0.06977158,  -3.437453  ],\n",
       "       [ -6.4050217 ,  -8.896386  ,  -6.6674995 ,  -3.391393  ,\n",
       "          6.7030873 ,  -0.5713578 ,  -5.3676424 ,   0.55528414,\n",
       "          1.4882536 ,   2.794966  ],\n",
       "       [ -6.47475   ,  -2.1344175 ,  -3.1847231 ,   0.94843453,\n",
       "         -0.24293104,   1.9214014 ,  -6.9775796 ,  -0.7750448 ,\n",
       "         -3.687262  ,   4.748816  ],\n",
       "       [  1.0199628 ,  -8.048458  ,  -0.08781159,  -3.9567983 ,\n",
       "          1.4580461 ,   4.214615  ,   3.3062205 ,  -4.333453  ,\n",
       "         -0.14124966,   1.2312568 ],\n",
       "       [ -4.505247  , -11.094     ,  -7.667598  ,  -5.2942905 ,\n",
       "          2.1760101 ,  -4.5966225 ,  -8.543973  ,   3.7076733 ,\n",
       "         -0.3722509 ,   7.297137  ]], dtype=float32)"
      ]
     },
     "execution_count": 37,
     "metadata": {},
     "output_type": "execute_result"
    },
    {
     "ename": "",
     "evalue": "",
     "output_type": "error",
     "traceback": [
      "\u001b[1;31mThe Kernel crashed while executing code in the current cell or a previous cell. \n",
      "\u001b[1;31mPlease review the code in the cell(s) to identify a possible cause of the failure. \n",
      "\u001b[1;31mClick <a href='https://aka.ms/vscodeJupyterKernelCrash'>here</a> for more info. \n",
      "\u001b[1;31mView Jupyter <a href='command:jupyter.viewOutput'>log</a> for further details."
     ]
    }
   ],
   "source": [
    "result"
   ]
  },
  {
   "cell_type": "code",
   "execution_count": null,
   "metadata": {},
   "outputs": [],
   "source": []
  },
  {
   "cell_type": "code",
   "execution_count": null,
   "metadata": {},
   "outputs": [],
   "source": []
  },
  {
   "cell_type": "code",
   "execution_count": null,
   "metadata": {},
   "outputs": [],
   "source": []
  },
  {
   "cell_type": "code",
   "execution_count": null,
   "metadata": {},
   "outputs": [],
   "source": []
  },
  {
   "cell_type": "code",
   "execution_count": null,
   "metadata": {},
   "outputs": [],
   "source": []
  },
  {
   "cell_type": "code",
   "execution_count": null,
   "metadata": {},
   "outputs": [],
   "source": []
  }
 ],
 "metadata": {
  "kernelspec": {
   "display_name": "Python 3",
   "language": "python",
   "name": "python3"
  },
  "language_info": {
   "codemirror_mode": {
    "name": "ipython",
    "version": 3
   },
   "file_extension": ".py",
   "mimetype": "text/x-python",
   "name": "python",
   "nbconvert_exporter": "python",
   "pygments_lexer": "ipython3",
   "version": "3.12.10"
  }
 },
 "nbformat": 4,
 "nbformat_minor": 2
}
