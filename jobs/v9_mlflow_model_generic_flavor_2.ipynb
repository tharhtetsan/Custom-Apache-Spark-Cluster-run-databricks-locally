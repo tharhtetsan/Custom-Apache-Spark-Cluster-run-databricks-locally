{
 "cells": [
  {
   "cell_type": "markdown",
   "metadata": {},
   "source": [
    "## TF tensor input model flavors with MLflow Generic Model"
   ]
  },
  {
   "cell_type": "code",
   "execution_count": 1,
   "metadata": {},
   "outputs": [
    {
     "name": "stdout",
     "output_type": "stream",
     "text": [
      "TF Version : 2.19.0\n"
     ]
    }
   ],
   "source": [
    "import numpy as np\n",
    "import tensorflow as tf\n",
    "import mlflow\n",
    "import time\n",
    "import json\n",
    "from mlflow.models import infer_signature\n",
    "print(\"TF Version :\", tf.__version__)"
   ]
  },
  {
   "cell_type": "code",
   "execution_count": 2,
   "metadata": {},
   "outputs": [
    {
     "name": "stderr",
     "output_type": "stream",
     "text": [
      "2025/06/06 13:22:47 INFO mlflow.tracking.fluent: Experiment with name 'test_new' does not exist. Creating a new experiment.\n"
     ]
    },
    {
     "data": {
      "text/plain": [
       "<Experiment: artifact_location='mlflow-artifacts:/165913490617322141', creation_time=1749216167076, experiment_id='165913490617322141', last_update_time=1749216167076, lifecycle_stage='active', name='test_new', tags={}>"
      ]
     },
     "execution_count": 2,
     "metadata": {},
     "output_type": "execute_result"
    }
   ],
   "source": [
    "mlflow_uri = \"http://mlflow-server:8888\"\n",
    "mlflow.set_tracking_uri(mlflow_uri)\n",
    "time.sleep(5)\n",
    "#mlflow.set_experiment(mlflow_uri)\n",
    "mlflow.set_experiment(\"test_new\")"
   ]
  },
  {
   "cell_type": "code",
   "execution_count": 3,
   "metadata": {},
   "outputs": [
    {
     "name": "stdout",
     "output_type": "stream",
     "text": [
      "Downloading data from https://storage.googleapis.com/tensorflow/tf-keras-datasets/mnist.npz\n",
      "\u001b[1m11490434/11490434\u001b[0m \u001b[32m━━━━━━━━━━━━━━━━━━━━\u001b[0m\u001b[37m\u001b[0m \u001b[1m2s\u001b[0m 0us/step\n",
      "(60000, 28, 28)\n",
      "(60000,)\n",
      "(10000, 28, 28)\n",
      "(10000,)\n"
     ]
    }
   ],
   "source": [
    "mnist = tf.keras.datasets.mnist\n",
    "\n",
    "(x_train, y_train) , (x_test,y_test) = mnist.load_data()\n",
    "x_train,x_test =  x_train/255.0 , x_test/255.0\n",
    "\n",
    "print(x_train.shape)\n",
    "print(y_train.shape)\n",
    "\n",
    "print(x_test.shape)\n",
    "print(y_test.shape)\n"
   ]
  },
  {
   "cell_type": "code",
   "execution_count": 4,
   "metadata": {},
   "outputs": [
    {
     "data": {
      "text/plain": [
       "<matplotlib.image.AxesImage at 0xffffacd5db10>"
      ]
     },
     "execution_count": 4,
     "metadata": {},
     "output_type": "execute_result"
    },
    {
     "data": {
      "image/png": "[encoded data removed]",
      "text/plain": [
       "<Figure size 640x480 with 1 Axes>"
      ]
     },
     "metadata": {},
     "output_type": "display_data"
    }
   ],
   "source": [
    "import matplotlib.pyplot as plt\n",
    "plt.imshow(x_train[0])"
   ]
  },
  {
   "cell_type": "code",
   "execution_count": 5,
   "metadata": {},
   "outputs": [
    {
     "name": "stderr",
     "output_type": "stream",
     "text": [
      "/usr/local/lib/python3.11/site-packages/mlflow/pyfunc/utils/data_validation.py:186: UserWarning: \u001b[33mAdd type hints to the `predict` method to enable data validation and automatic signature inference during model logging. Check https://mlflow.org/docs/latest/model/python_model.html#type-hint-usage-in-pythonmodel for more details.\u001b[0m\n",
      "  color_warning(\n"
     ]
    }
   ],
   "source": [
    "import json\n",
    "class custom_tf_model(mlflow.pyfunc.PythonModel):\n",
    "    def __init__(self,params):\n",
    "        self.params = params\n",
    "        self.tf_model = None\n",
    "        self.config = None\n",
    "\n",
    "    def load_context(self, context = None, config_path = None):\n",
    "        if context:\n",
    "            config_path = context.artifacts[\"config_path\"]\n",
    "            \n",
    "        else:\n",
    "            pass\n",
    "        self.config = json.load(open(config_path))\n",
    "\n",
    "    \n",
    "    def fit(self,x_train,y_train):\n",
    "        tf_model,eval_loss,eval_acc = self.train_model()\n",
    "        self.tf_model = tf_model\n",
    "\n",
    "    def predict(self, context, model_input):\n",
    "        return self.tf_model.predict(model_input)\n",
    "    \n",
    "\n",
    "    def train_model(self,p_epoch=2, p_optimizer = \"Adam\", l1_noNode= 32, l1_activation=\"relu\",l1_dropout= 0.2):\n",
    "        loss_func = tf.keras.losses.SparseCategoricalCrossentropy(from_logits=True)\n",
    "        model = tf.keras.models.Sequential([\n",
    "            tf.keras.layers.Flatten(input_shape=(28, 28)),\n",
    "            tf.keras.layers.Dense(l1_noNode,activation=l1_activation),\n",
    "            tf.keras.layers.Dropout(l1_dropout),\n",
    "            tf.keras.layers.Dense(10)\n",
    "        ])\n",
    "\n",
    "        model.compile(optimizer = p_optimizer,loss= loss_func, metrics = ['accuracy'])\n",
    "\n",
    "        model.fit(x_train,y_train,epochs = p_epoch)\n",
    "\n",
    "        eval_loss, eval_acc = model.evaluate(x_test,y_test,verbose=2)\n",
    "\n",
    "\n",
    "        print(f\"eval_loss : {eval_loss} | eval_acc : {eval_acc}\")\n",
    "\n",
    "        return model,eval_loss,eval_acc\n",
    "        \n",
    "\n",
    "\n"
   ]
  },
  {
   "cell_type": "code",
   "execution_count": 6,
   "metadata": {},
   "outputs": [
    {
     "name": "stderr",
     "output_type": "stream",
     "text": [
      "/usr/local/lib/python3.11/site-packages/keras/src/layers/reshaping/flatten.py:37: UserWarning: Do not pass an `input_shape`/`input_dim` argument to a layer. When using Sequential models, prefer using an `Input(shape)` object as the first layer in the model instead.\n",
      "  super().__init__(**kwargs)\n"
     ]
    },
    {
     "name": "stdout",
     "output_type": "stream",
     "text": [
      "Epoch 1/2\n"
     ]
    },
    {
     "name": "stderr",
     "output_type": "stream",
     "text": [
      "2025-06-06 13:23:02.064755: W external/local_xla/xla/tsl/framework/cpu_allocator_impl.cc:83] Allocation of 188160000 exceeds 10% of free system memory.\n"
     ]
    },
    {
     "name": "stdout",
     "output_type": "stream",
     "text": [
      "\u001b[1m1875/1875\u001b[0m \u001b[32m━━━━━━━━━━━━━━━━━━━━\u001b[0m\u001b[37m\u001b[0m \u001b[1m1s\u001b[0m 555us/step - accuracy: 0.7819 - loss: 0.7123\n",
      "Epoch 2/2\n",
      "\u001b[1m1875/1875\u001b[0m \u001b[32m━━━━━━━━━━━━━━━━━━━━\u001b[0m\u001b[37m\u001b[0m \u001b[1m1s\u001b[0m 514us/step - accuracy: 0.9174 - loss: 0.2845\n",
      "313/313 - 0s - 538us/step - accuracy: 0.9511 - loss: 0.1710\n",
      "eval_loss : 0.17097847163677216 | eval_acc : 0.9510999917984009\n"
     ]
    },
    {
     "name": "stderr",
     "output_type": "stream",
     "text": [
      "2025-06-06 13:23:04.825442: W external/local_xla/xla/tsl/framework/cpu_allocator_impl.cc:83] Allocation of 31360000 exceeds 10% of free system memory.\n"
     ]
    }
   ],
   "source": [
    "config_path = \"data_tf.json\"\n",
    "params_ = {\n",
    "    \"epochs\" : 5\n",
    "}\n",
    "custom_tf_obj = custom_tf_model(params_)\n",
    "custom_tf_obj.load_context(config_path=config_path)\n",
    "custom_tf_obj.fit(x_train=x_train,y_train=y_train)"
   ]
  },
  {
   "cell_type": "code",
   "execution_count": 7,
   "metadata": {},
   "outputs": [
    {
     "data": {
      "text/plain": [
       "{'channels': ['defaults'],\n",
       " 'dependencies': ['python=3.11.13',\n",
       "  'pip',\n",
       "  {'pip': ['mlflow', 'tensorflow==2.19.0']}],\n",
       " 'name': 'tf_env'}"
      ]
     },
     "execution_count": 7,
     "metadata": {},
     "output_type": "execute_result"
    }
   ],
   "source": [
    "from sys import version_info\n",
    "conda_env_tf = {\n",
    "    \"channels\": [\"defaults\"],\n",
    "    \"dependencies\": [\n",
    "        f\"python={version_info.major}.{version_info.minor}.{version_info.micro}\",\n",
    "        \"pip\",\n",
    "        {\"pip\": [\"mlflow\",\n",
    "                 f\"tensorflow=={tf.__version__}\"]\n",
    "        },\n",
    "    ],\n",
    "    \"name\": \"tf_env\"\n",
    "}\n",
    "conda_env_tf"
   ]
  },
  {
   "cell_type": "code",
   "execution_count": 8,
   "metadata": {},
   "outputs": [
    {
     "name": "stdout",
     "output_type": "stream",
     "text": [
      "\u001b[1m313/313\u001b[0m \u001b[32m━━━━━━━━━━━━━━━━━━━━\u001b[0m\u001b[37m\u001b[0m \u001b[1m0s\u001b[0m 327us/step\n",
      "(10000, 10)\n"
     ]
    },
    {
     "name": "stderr",
     "output_type": "stream",
     "text": [
      "2025-06-06 13:23:13.252239: W external/local_xla/xla/tsl/framework/cpu_allocator_impl.cc:83] Allocation of 31360000 exceeds 10% of free system memory.\n"
     ]
    }
   ],
   "source": [
    "predictions_tf = custom_tf_obj.predict(context=None,model_input=x_test)\n",
    "print(predictions_tf.shape)\n",
    "model_signature = infer_signature(x_test,predictions_tf)"
   ]
  },
  {
   "cell_type": "code",
   "execution_count": 9,
   "metadata": {},
   "outputs": [
    {
     "data": {
      "text/plain": [
       "inputs: \n",
       "  [Tensor('float64', (-1, 28, 28))]\n",
       "outputs: \n",
       "  [Tensor('float32', (-1, 10))]\n",
       "params: \n",
       "  None"
      ]
     },
     "execution_count": 9,
     "metadata": {},
     "output_type": "execute_result"
    }
   ],
   "source": [
    "type(model_signature)\n",
    "model_signature"
   ]
  },
  {
   "cell_type": "code",
   "execution_count": 10,
   "metadata": {},
   "outputs": [
    {
     "data": {
      "text/plain": [
       "{'config_path': 'data_tf.json'}"
      ]
     },
     "execution_count": 10,
     "metadata": {},
     "output_type": "execute_result"
    }
   ],
   "source": [
    "artifacts_tf = {\n",
    "    \"config_path\" : config_path\n",
    "}\n",
    "artifacts_tf"
   ]
  },
  {
   "cell_type": "code",
   "execution_count": 11,
   "metadata": {},
   "outputs": [
    {
     "data": {
      "text/plain": [
       "{'channels': ['defaults'],\n",
       " 'dependencies': ['python=3.11.13',\n",
       "  'pip',\n",
       "  {'pip': ['mlflow', 'tensorflow==2.19.0']}],\n",
       " 'name': 'tf_env'}"
      ]
     },
     "execution_count": 11,
     "metadata": {},
     "output_type": "execute_result"
    }
   ],
   "source": [
    "conda_env_tf"
   ]
  },
  {
   "cell_type": "code",
   "execution_count": 12,
   "metadata": {},
   "outputs": [
    {
     "name": "stderr",
     "output_type": "stream",
     "text": [
      "2025/06/06 13:23:23 WARNING mlflow.utils.git_utils: Failed to import Git (the Git executable is probably not on your PATH), so Git SHA is not available. Error: Failed to initialize: Bad git executable.\n",
      "The git executable must be specified in one of the following ways:\n",
      "    - be included in your $PATH\n",
      "    - be set via $GIT_PYTHON_GIT_EXECUTABLE\n",
      "    - explicitly set via git.refresh(<full-path-to-git-executable>)\n",
      "\n",
      "All git commands will error until this is rectified.\n",
      "\n",
      "This initial message can be silenced or aggravated in the future by setting the\n",
      "$GIT_PYTHON_REFRESH environment variable. Use one of the following values:\n",
      "    - quiet|q|silence|s|silent|none|n|0: for no message or exception\n",
      "    - warn|w|warning|log|l|1: for a warning message (logging level CRITICAL, displayed by default)\n",
      "    - error|e|exception|raise|r|2: for a raised exception\n",
      "\n",
      "Example:\n",
      "    export GIT_PYTHON_REFRESH=quiet\n",
      "\n",
      "2025/06/06 13:23:23 INFO mlflow.pyfunc: Validating input example against model signature\n",
      "/usr/local/lib/python3.11/site-packages/tqdm/auto.py:21: TqdmWarning: IProgress not found. Please update jupyter and ipywidgets. See https://ipywidgets.readthedocs.io/en/stable/user_install.html\n",
      "  from .autonotebook import tqdm as notebook_tqdm\n",
      "Downloading artifacts: 100%|██████████| 1/1 [00:00<00:00, 1319.38it/s]\n"
     ]
    },
    {
     "name": "stdout",
     "output_type": "stream",
     "text": [
      "\u001b[1m1/1\u001b[0m \u001b[32m━━━━━━━━━━━━━━━━━━━━\u001b[0m\u001b[37m\u001b[0m \u001b[1m0s\u001b[0m 32ms/step\n",
      "🏃 View run generic_model3 at: http://mlflow-server:8888/#/experiments/165913490617322141/runs/7ae71dbf0ec7437daf0522e57eaa7559\n",
      "🧪 View experiment at: http://mlflow-server:8888/#/experiments/165913490617322141\n"
     ]
    }
   ],
   "source": [
    "with mlflow.start_run(run_name=\"generic_model3\") as run2:\n",
    "    mlflow.pyfunc.log_model(\n",
    "        \"custom_tf\",\n",
    "        python_model = custom_tf_obj,\n",
    "        artifacts = artifacts_tf,\n",
    "        conda_env = conda_env_tf,\n",
    "        signature = model_signature,\n",
    "        input_example = x_train[0:5]\n",
    "    )"
   ]
  },
  {
   "cell_type": "code",
   "execution_count": 13,
   "metadata": {},
   "outputs": [
    {
     "name": "stderr",
     "output_type": "stream",
     "text": [
      "Downloading artifacts: 100%|██████████| 8/8 [00:01<00:00,  4.21it/s] \n"
     ]
    }
   ],
   "source": [
    "import mlflow\n",
    "logged_model = 'runs:/7ae71dbf0ec7437daf0522e57eaa7559/custom_tf'\n",
    "\n",
    "# Load model as a PyFuncModel.\n",
    "loaded_model = mlflow.pyfunc.load_model(logged_model)\n",
    "\n"
   ]
  },
  {
   "cell_type": "code",
   "execution_count": 14,
   "metadata": {},
   "outputs": [
    {
     "name": "stdout",
     "output_type": "stream",
     "text": [
      "\u001b[1m1/1\u001b[0m \u001b[32m━━━━━━━━━━━━━━━━━━━━\u001b[0m\u001b[37m\u001b[0m \u001b[1m0s\u001b[0m 34ms/step\n"
     ]
    }
   ],
   "source": [
    "# Predict on a Pandas DataFrame.\n",
    "import pandas as pd\n",
    "result = loaded_model.predict(x_test[:10])"
   ]
  },
  {
   "cell_type": "code",
   "execution_count": 15,
   "metadata": {},
   "outputs": [
    {
     "data": {
      "text/plain": [
       "array([[ -4.3607526 , -12.169812  ,  -0.9593032 ,   0.04697762,\n",
       "         -7.2581353 ,  -4.6035733 , -17.074661  ,   7.08896   ,\n",
       "         -4.298863  ,  -0.88948613],\n",
       "       [  1.5582805 ,  -0.19012718,  10.094993  ,   4.4598694 ,\n",
       "        -14.894306  ,   0.76271135,  -2.8592718 ,  -6.6693234 ,\n",
       "         -2.71962   , -11.529357  ],\n",
       "       [ -5.622249  ,   5.6166353 ,  -0.6124428 ,  -1.6558986 ,\n",
       "         -3.0043004 ,  -2.5107572 ,  -2.1523046 ,  -0.22085863,\n",
       "         -0.64369136,  -2.299418  ],\n",
       "       [  8.106625  ,  -7.100047  ,  -3.177436  ,  -2.902764  ,\n",
       "         -8.801589  ,  -0.54839677,  -4.2099323 ,  -2.2629633 ,\n",
       "         -7.9226713 ,  -2.2337658 ],\n",
       "       [ -3.488242  ,  -5.6656594 ,  -1.8066968 ,  -4.3125725 ,\n",
       "          4.317549  ,  -2.8421092 ,  -1.7892858 ,  -0.63355094,\n",
       "         -2.9365609 ,   1.5057465 ],\n",
       "       [ -7.3449364 ,   7.016824  ,  -1.8200865 ,  -1.8779823 ,\n",
       "         -3.504801  ,  -3.7030678 ,  -4.030673  ,   0.3406265 ,\n",
       "          0.11002479,  -2.6213813 ],\n",
       "       [ -6.208362  ,  -8.273108  ,  -5.794423  ,  -3.8390694 ,\n",
       "          5.543655  ,  -2.4530292 ,  -7.027752  ,  -1.1993023 ,\n",
       "         -0.7996926 ,   0.20155624],\n",
       "       [ -5.7681966 ,  -4.403922  ,  -1.8626981 ,   1.0168402 ,\n",
       "         -0.28510296,   0.7248485 ,  -7.1571665 ,   0.14116406,\n",
       "         -1.6394064 ,   3.6455367 ],\n",
       "       [ -0.08935089,  -7.9062076 ,   0.3719102 ,  -5.6486855 ,\n",
       "         -1.0519601 ,   4.19662   ,   6.1367645 ,  -8.092466  ,\n",
       "         -3.048141  ,  -2.0980468 ],\n",
       "       [ -6.8681583 ,  -8.660668  ,  -7.4178185 ,  -7.2762046 ,\n",
       "          0.48689753,  -7.2381163 , -11.359925  ,   2.3683877 ,\n",
       "         -2.7121248 ,   5.343689  ]], dtype=float32)"
      ]
     },
     "execution_count": 15,
     "metadata": {},
     "output_type": "execute_result"
    }
   ],
   "source": [
    "result"
   ]
  },
  {
   "cell_type": "code",
   "execution_count": null,
   "metadata": {},
   "outputs": [],
   "source": []
  },
  {
   "cell_type": "code",
   "execution_count": null,
   "metadata": {},
   "outputs": [],
   "source": []
  },
  {
   "cell_type": "code",
   "execution_count": null,
   "metadata": {},
   "outputs": [],
   "source": []
  },
  {
   "cell_type": "code",
   "execution_count": null,
   "metadata": {},
   "outputs": [],
   "source": []
  },
  {
   "cell_type": "code",
   "execution_count": null,
   "metadata": {},
   "outputs": [],
   "source": []
  },
  {
   "cell_type": "code",
   "execution_count": null,
   "metadata": {},
   "outputs": [],
   "source": []
  }
 ],
 "metadata": {
  "kernelspec": {
   "display_name": "Python 3",
   "language": "python",
   "name": "python3"
  },
  "language_info": {
   "codemirror_mode": {
    "name": "ipython",
    "version": 3
   },
   "file_extension": ".py",
   "mimetype": "text/x-python",
   "name": "python",
   "nbconvert_exporter": "python",
   "pygments_lexer": "ipython3",
   "version": "3.11.13"
  }
 },
 "nbformat": 4,
 "nbformat_minor": 2
}
