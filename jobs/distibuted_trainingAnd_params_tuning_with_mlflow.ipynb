{
 "cells": [
  {
   "cell_type": "markdown",
   "metadata": {},
   "source": [
    "#### Import libs"
   ]
  },
  {
   "cell_type": "code",
   "execution_count": 3,
   "metadata": {},
   "outputs": [
    {
     "name": "stdout",
     "output_type": "stream",
     "text": [
      "TensorFlow version: 2.17.0\n"
     ]
    }
   ],
   "source": [
    "import numpy as np\n",
    "import tensorflow as tf\n",
    "\n",
    "print(\"TensorFlow version:\", tf.__version__)"
   ]
  },
  {
   "cell_type": "code",
   "execution_count": 2,
   "metadata": {},
   "outputs": [
    {
     "name": "stderr",
     "output_type": "stream",
     "text": [
      "Setting default log level to \"WARN\".\n",
      "To adjust logging level use sc.setLogLevel(newLevel). For SparkR, use setLogLevel(newLevel).\n",
      "24/10/01 03:59:24 WARN NativeCodeLoader: Unable to load native-hadoop library for your platform... using builtin-java classes where applicable\n"
     ]
    }
   ],
   "source": [
    "from pyspark.sql import SparkSession\n",
    "spark = SparkSession.builder.appName(\"distibuted_trainingAnd_params_tuning\").master(\"spark://spark-master:7077\") \\\n",
    "        .getOrCreate()"
   ]
  },
  {
   "cell_type": "markdown",
   "metadata": {},
   "source": [
    "#### Load Dataset"
   ]
  },
  {
   "cell_type": "code",
   "execution_count": 3,
   "metadata": {},
   "outputs": [
    {
     "name": "stdout",
     "output_type": "stream",
     "text": [
      "(60000, 28, 28)\n",
      "(60000,)\n"
     ]
    }
   ],
   "source": [
    "mnist = tf.keras.datasets.mnist\n",
    "\n",
    "(x_train, y_train), (x_test, y_test) = mnist.load_data()\n",
    "x_train, x_test = x_train / 255.0, x_test / 255.0\n",
    "\n",
    "x_train = np.array(x_train)\n",
    "\n",
    "print(x_train.shape)\n",
    "print(y_train.shape)"
   ]
  },
  {
   "cell_type": "markdown",
   "metadata": {},
   "source": [
    "#### Define model method"
   ]
  },
  {
   "cell_type": "code",
   "execution_count": 4,
   "metadata": {},
   "outputs": [],
   "source": [
    "# import libs for Tuning\n",
    "from hyperopt import fmin, tpe, hp, Trials, STATUS_OK\n",
    "\n",
    "# for distibuted training\n",
    "from hyperopt import SparkTrials"
   ]
  },
  {
   "cell_type": "code",
   "execution_count": 5,
   "metadata": {},
   "outputs": [],
   "source": [
    "def create_model(l1_noNode,l1_activation,l1_droupout):\n",
    "    model = tf.keras.models.Sequential([\n",
    "    tf.keras.layers.Flatten(input_shape=(28, 28)),\n",
    "    tf.keras.layers.Dense(l1_noNode, activation=l1_activation),\n",
    "    tf.keras.layers.Dropout(l1_droupout),\n",
    "    tf.keras.layers.Dense(10)\n",
    "    ])\n",
    "    return model"
   ]
  },
  {
   "cell_type": "code",
   "execution_count": 6,
   "metadata": {},
   "outputs": [],
   "source": [
    "def train_model(p_epoch=2 ,p_optimizer=\"adam\" ,\n",
    "                l1_noNode=32,l1_activation=\"relu\",l1_droupout=0.2):\n",
    "\n",
    "\n",
    "    loss_fn = tf.keras.losses.SparseCategoricalCrossentropy(from_logits=True)\n",
    "    model = create_model(l1_noNode,l1_activation,l1_droupout)\n",
    "\n",
    "\n",
    "    model.compile(optimizer=p_optimizer,\n",
    "              loss=loss_fn,\n",
    "              metrics=['accuracy'])\n",
    "    \n",
    "\n",
    "  \n",
    "    model.fit(x_train, y_train, epochs=p_epoch)\n",
    "    eval_loss, eval_acc  = model.evaluate(x_test,  y_test, verbose=2)\n",
    "\n",
    "    print(\"eval_loss, eval_acc : \",eval_loss, eval_acc)\n",
    "    return model, eval_loss, eval_acc\n",
    "\n",
    "\n"
   ]
  },
  {
   "cell_type": "code",
   "execution_count": 7,
   "metadata": {},
   "outputs": [],
   "source": [
    "# train_model()"
   ]
  },
  {
   "cell_type": "code",
   "execution_count": 8,
   "metadata": {},
   "outputs": [],
   "source": [
    "def train_with_hyperopt(params):\n",
    "    p_epoch = params[\"epochs\"]\n",
    "    p_optimizer = params[\"optimizer\"]\n",
    "    l1_noNode = params[\"l1_noNode\"]\n",
    "    l1_activation= params[\"l1_activation\"]\n",
    "    l1_droupout = params[\"l1_droupout\"]\n",
    "\n",
    "    model, eval_loss, eval_acc = train_model(p_epoch,p_optimizer,l1_noNode,l1_activation,l1_droupout)\n",
    "\n",
    "    return {\"loss\": eval_loss, \"status\": STATUS_OK, \"model\": model, \"eval_acc\": eval_acc}\n"
   ]
  },
  {
   "cell_type": "code",
   "execution_count": 9,
   "metadata": {},
   "outputs": [
    {
     "name": "stdout",
     "output_type": "stream",
     "text": [
      "<function suggest at 0xffffa85b2200>\n"
     ]
    }
   ],
   "source": [
    "epochs = [1,2,3,4]\n",
    "optimizer = [\"Adam\",\"SGD\",\"RMSprop\"]\n",
    "l1_noNode = [32,64,128] \n",
    "l1_activation = [\"relu\",\"softmax\",\"tanh\"]\n",
    "l1_droupout = [0.2,0.3,0.4,0.5]\n",
    "\n",
    "search_params_space ={\n",
    "    \"epochs\": hp.choice(\"epochs\",epochs),\n",
    "    \"optimizer\" : hp.choice(\"optimizer\",optimizer),\n",
    "    \"l1_noNode\" : hp.choice(\"l1_noNode\",l1_noNode ),\n",
    "    \"l1_activation\" : hp.choice(\"l1_activation\",l1_activation),\n",
    "    \"l1_droupout\": hp.choice(\"l1_droupout\", l1_droupout)\n",
    "\n",
    "}\n",
    "\n",
    "\n",
    "spark_trials = SparkTrials(parallelism=2)\n",
    "algo = tpe.suggest\n",
    "print(algo)"
   ]
  },
  {
   "cell_type": "markdown",
   "metadata": {},
   "source": [
    "#### Define MLflow experiment"
   ]
  },
  {
   "cell_type": "code",
   "execution_count": 10,
   "metadata": {},
   "outputs": [
    {
     "data": {
      "text/plain": [
       "<Experiment: artifact_location='mlflow-artifacts:/164989470878550937', creation_time=1727753710182, experiment_id='164989470878550937', last_update_time=1727753710182, lifecycle_stage='active', name='distibuted_trainingAnd_params_tuning_with_mlflow_1', tags={}>"
      ]
     },
     "execution_count": 10,
     "metadata": {},
     "output_type": "execute_result"
    }
   ],
   "source": [
    "import mlflow\n",
    "import time\n",
    "mlflow_uri = \"http://mlflow-server:8888/\"\n",
    "mlflow.set_tracking_uri(mlflow_uri)\n",
    "time.sleep(5)\n",
    "mlflow.set_experiment(\"distibuted_trainingAnd_params_tuning_with_mlflow_1\")\n"
   ]
  },
  {
   "cell_type": "code",
   "execution_count": 11,
   "metadata": {},
   "outputs": [],
   "source": [
    "\n",
    "import mlflow.pyspark.ml\n",
    "mlflow.pyspark.ml.autolog()"
   ]
  },
  {
   "cell_type": "code",
   "execution_count": 12,
   "metadata": {},
   "outputs": [
    {
     "data": {
      "text/plain": [
       "'3.5.2'"
      ]
     },
     "execution_count": 12,
     "metadata": {},
     "output_type": "execute_result"
    }
   ],
   "source": [
    "import pyspark\n",
    "pyspark.__version__"
   ]
  },
  {
   "cell_type": "code",
   "execution_count": 13,
   "metadata": {},
   "outputs": [],
   "source": [
    "from mlflow.models import infer_signature\n",
    "mlflow.tensorflow.autolog()\n",
    "mlflow.enable_system_metrics_logging()\n",
    "time.sleep(5)"
   ]
  },
  {
   "cell_type": "code",
   "execution_count": 14,
   "metadata": {},
   "outputs": [
    {
     "name": "stderr",
     "output_type": "stream",
     "text": [
      "2024/10/01 03:55:15 WARNING mlflow.utils.git_utils: Failed to import Git (the Git executable is probably not on your PATH), so Git SHA is not available. Error: Failed to initialize: Bad git executable.\n",
      "The git executable must be specified in one of the following ways:\n",
      "    - be included in your $PATH\n",
      "    - be set via $GIT_PYTHON_GIT_EXECUTABLE\n",
      "    - explicitly set via git.refresh(<full-path-to-git-executable>)\n",
      "\n",
      "All git commands will error until this is rectified.\n",
      "\n",
      "This initial message can be silenced or aggravated in the future by setting the\n",
      "$GIT_PYTHON_REFRESH environment variable. Use one of the following values:\n",
      "    - quiet|q|silence|s|silent|none|n|0: for no message or exception\n",
      "    - warn|w|warning|log|l|1: for a warning message (logging level CRITICAL, displayed by default)\n",
      "    - error|e|exception|raise|r|2: for a raised exception\n",
      "\n",
      "Example:\n",
      "    export GIT_PYTHON_REFRESH=quiet\n",
      "\n",
      "2024/10/01 03:55:15 WARNING mlflow.system_metrics.system_metrics_monitor: Skip logging GPU metrics because creating `GPUMonitor` failed with error: `pynvml` is not installed, to log GPU metrics please run `pip install pynvml` to install it..\n",
      "2024/10/01 03:55:15 INFO mlflow.system_metrics.system_metrics_monitor: Started monitoring system metrics.\n"
     ]
    },
    {
     "name": "stdout",
     "output_type": "stream",
     "text": [
      "  0%|          | 0/3 [00:00<?, ?trial/s, best loss=?]"
     ]
    },
    {
     "name": "stderr",
     "output_type": "stream",
     "text": [
      "/usr/local/lib/python3.12/site-packages/keras/src/layers/reshaping/flatten.py:37: UserWarning: Do not pass an `input_shape`/`input_dim` argument to a layer. When using Sequential models, prefer using an `Input(shape)` object as the first layer in the model instead.\n",
      "  super().__init__(**kwargs)\n",
      "\n"
     ]
    },
    {
     "data": {
      "text/html": [
       "<pre style=\"white-space:pre;overflow-x:auto;line-height:normal;font-family:Menlo,'DejaVu Sans Mono',consolas,'Courier New',monospace\"></pre>\n"
      ],
      "text/plain": []
     },
     "metadata": {},
     "output_type": "display_data"
    },
    {
     "name": "stdout",
     "output_type": "stream",
     "text": [
      "Epoch 1/3                                            \n",
      "\n",
      "\u001b[1m   1/1875\u001b[0m \u001b[37m━━━━━━━━━━━━━━━━━━━━\u001b[0m \u001b[1m5:25\u001b[0m 174ms/step - accuracy: 0.1250 - loss: 2.3253\n",
      "\u001b[1m  63/1875\u001b[0m \u001b[37m━━━━━━━━━━━━━━━━━━━━\u001b[0m \u001b[1m1s\u001b[0m 817us/step - accuracy: 0.1644 - loss: 2.2566  \n",
      "\u001b[1m 130/1875\u001b[0m \u001b[32m━\u001b[0m\u001b[37m━━━━━━━━━━━━━━━━━━━\u001b[0m \u001b[1m1s\u001b[0m 785us/step - accuracy: 0.2571 - loss: 2.1306\n",
      "\u001b[1m 205/1875\u001b[0m \u001b[32m━━\u001b[0m\u001b[37m━━━━━━━━━━━━━━━━━━\u001b[0m \u001b[1m1s\u001b[0m 743us/step - accuracy: 0.3335 - loss: 2.0072\n",
      "\u001b[1m 283/1875\u001b[0m \u001b[32m━━━\u001b[0m\u001b[37m━━━━━━━━━━━━━━━━━\u001b[0m \u001b[1m1s\u001b[0m 716us/step - accuracy: 0.3907 - loss: 1.8971\n",
      "\u001b[1m 365/1875\u001b[0m \u001b[32m━━━\u001b[0m\u001b[37m━━━━━━━━━━━━━━━━━\u001b[0m \u001b[1m1s\u001b[0m 693us/step - accuracy: 0.4364 - loss: 1.7983\n",
      "\u001b[1m 444/1875\u001b[0m \u001b[32m━━━━\u001b[0m\u001b[37m━━━━━━━━━━━━━━━━\u001b[0m \u001b[1m0s\u001b[0m 683us/step - accuracy: 0.4711 - loss: 1.7170\n",
      "\u001b[1m 522/1875\u001b[0m \u001b[32m━━━━━\u001b[0m\u001b[37m━━━━━━━━━━━━━━━\u001b[0m \u001b[1m0s\u001b[0m 677us/step - accuracy: 0.4991 - loss: 1.6472\n",
      "\u001b[1m 602/1875\u001b[0m \u001b[32m━━━━━━\u001b[0m\u001b[37m━━━━━━━━━━━━━━\u001b[0m \u001b[1m0s\u001b[0m 671us/step - accuracy: 0.5230 - loss: 1.5846\n",
      "\u001b[1m 683/1875\u001b[0m \u001b[32m━━━━━━━\u001b[0m\u001b[37m━━━━━━━━━━━━━\u001b[0m \u001b[1m0s\u001b[0m 665us/step - accuracy: 0.5437 - loss: 1.5286\n",
      "\u001b[1m 764/1875\u001b[0m \u001b[32m━━━━━━━━\u001b[0m\u001b[37m━━━━━━━━━━━━\u001b[0m \u001b[1m0s\u001b[0m 661us/step - accuracy: 0.5616 - loss: 1.4788\n",
      "\u001b[1m 843/1875\u001b[0m \u001b[32m━━━━━━━━\u001b[0m\u001b[37m━━━━━━━━━━━━\u001b[0m \u001b[1m0s\u001b[0m 659us/step - accuracy: 0.5768 - loss: 1.4353\n",
      "\u001b[1m 923/1875\u001b[0m \u001b[32m━━━━━━━━━\u001b[0m\u001b[37m━━━━━━━━━━━\u001b[0m \u001b[1m0s\u001b[0m 656us/step - accuracy: 0.5906 - loss: 1.3955\n",
      "\u001b[1m1003/1875\u001b[0m \u001b[32m━━━━━━━━━━\u001b[0m\u001b[37m━━━━━━━━━━\u001b[0m \u001b[1m0s\u001b[0m 654us/step - accuracy: 0.6029 - loss: 1.3591\n",
      "\u001b[1m1084/1875\u001b[0m \u001b[32m━━━━━━━━━━━\u001b[0m\u001b[37m━━━━━━━━━\u001b[0m \u001b[1m0s\u001b[0m 652us/step - accuracy: 0.6140 - loss: 1.3256\n",
      "\u001b[1m1165/1875\u001b[0m \u001b[32m━━━━━━━━━━━━\u001b[0m\u001b[37m━━━━━━━━\u001b[0m \u001b[1m0s\u001b[0m 650us/step - accuracy: 0.6242 - loss: 1.2947\n",
      "\u001b[1m1245/1875\u001b[0m \u001b[32m━━━━━━━━━━━━━\u001b[0m\u001b[37m━━━━━━━\u001b[0m \u001b[1m0s\u001b[0m 648us/step - accuracy: 0.6334 - loss: 1.2666\n",
      "\u001b[1m1324/1875\u001b[0m \u001b[32m━━━━━━━━━━━━━━\u001b[0m\u001b[37m━━━━━━\u001b[0m \u001b[1m0s\u001b[0m 647us/step - accuracy: 0.6417 - loss: 1.2408\n",
      "\u001b[1m1403/1875\u001b[0m \u001b[32m━━━━━━━━━━━━━━\u001b[0m\u001b[37m━━━━━━\u001b[0m \u001b[1m0s\u001b[0m 647us/step - accuracy: 0.6494 - loss: 1.2168\n",
      "\u001b[1m1485/1875\u001b[0m \u001b[32m━━━━━━━━━━━━━━━\u001b[0m\u001b[37m━━━━━\u001b[0m \u001b[1m0s\u001b[0m 645us/step - accuracy: 0.6568 - loss: 1.1935\n",
      "\u001b[1m1567/1875\u001b[0m \u001b[32m━━━━━━━━━━━━━━━━\u001b[0m\u001b[37m━━━━\u001b[0m \u001b[1m0s\u001b[0m 643us/step - accuracy: 0.6636 - loss: 1.1718\n",
      "\u001b[1m1648/1875\u001b[0m \u001b[32m━━━━━━━━━━━━━━━━━\u001b[0m\u001b[37m━━━\u001b[0m \u001b[1m0s\u001b[0m 642us/step - accuracy: 0.6699 - loss: 1.1517\n",
      "\u001b[1m1729/1875\u001b[0m \u001b[32m━━━━━━━━━━━━━━━━━━\u001b[0m\u001b[37m━━\u001b[0m \u001b[1m0s\u001b[0m 641us/step - accuracy: 0.6758 - loss: 1.1327\n",
      "\u001b[1m1809/1875\u001b[0m \u001b[32m━━━━━━━━━━━━━━━━━━━\u001b[0m\u001b[37m━\u001b[0m \u001b[1m0s\u001b[0m 640us/step - accuracy: 0.6813 - loss: 1.1150\n",
      "  0%|          | 0/3 [00:01<?, ?trial/s, best loss=?]"
     ]
    },
    {
     "name": "stderr",
     "output_type": "stream",
     "text": [
      "2024/10/01 03:55:16 WARNING mlflow.utils.checkpoint_utils: Checkpoint logging is skipped, because checkpoint 'save_best_only' config is True, it requires to compare the monitored metric value, but the provided monitored metric value is not available.\n",
      "\n"
     ]
    },
    {
     "name": "stdout",
     "output_type": "stream",
     "text": [
      "\u001b[1m1875/1875\u001b[0m \u001b[32m━━━━━━━━━━━━━━━━━━━━\u001b[0m\u001b[37m\u001b[0m \u001b[1m1s\u001b[0m 642us/step - accuracy: 0.6856 - loss: 1.1009\n",
      "\n",
      "Epoch 2/3                                            \n",
      "\n",
      "\u001b[1m   1/1875\u001b[0m \u001b[37m━━━━━━━━━━━━━━━━━━━━\u001b[0m \u001b[1m20s\u001b[0m 11ms/step - accuracy: 0.9062 - loss: 0.4000\n",
      "\u001b[1m  76/1875\u001b[0m \u001b[37m━━━━━━━━━━━━━━━━━━━━\u001b[0m \u001b[1m1s\u001b[0m 673us/step - accuracy: 0.8801 - loss: 0.4279\n",
      "\u001b[1m 148/1875\u001b[0m \u001b[32m━\u001b[0m\u001b[37m━━━━━━━━━━━━━━━━━━━\u001b[0m \u001b[1m1s\u001b[0m 685us/step - accuracy: 0.8774 - loss: 0.4352\n",
      "\u001b[1m 224/1875\u001b[0m \u001b[32m━━\u001b[0m\u001b[37m━━━━━━━━━━━━━━━━━━\u001b[0m \u001b[1m1s\u001b[0m 677us/step - accuracy: 0.8777 - loss: 0.4338\n",
      "\u001b[1m 304/1875\u001b[0m \u001b[32m━━━\u001b[0m\u001b[37m━━━━━━━━━━━━━━━━━\u001b[0m \u001b[1m1s\u001b[0m 664us/step - accuracy: 0.8782 - loss: 0.4319\n",
      "\u001b[1m 386/1875\u001b[0m \u001b[32m━━━━\u001b[0m\u001b[37m━━━━━━━━━━━━━━━━\u001b[0m \u001b[1m0s\u001b[0m 654us/step - accuracy: 0.8785 - loss: 0.4307\n",
      "\u001b[1m 467/1875\u001b[0m \u001b[32m━━━━\u001b[0m\u001b[37m━━━━━━━━━━━━━━━━\u001b[0m \u001b[1m0s\u001b[0m 648us/step - accuracy: 0.8787 - loss: 0.4296\n",
      "\u001b[1m 549/1875\u001b[0m \u001b[32m━━━━━\u001b[0m\u001b[37m━━━━━━━━━━━━━━━\u001b[0m \u001b[1m0s\u001b[0m 643us/step - accuracy: 0.8789 - loss: 0.4283\n",
      "\u001b[1m 630/1875\u001b[0m \u001b[32m━━━━━━\u001b[0m\u001b[37m━━━━━━━━━━━━━━\u001b[0m \u001b[1m0s\u001b[0m 640us/step - accuracy: 0.8793 - loss: 0.4267\n",
      "\u001b[1m 711/1875\u001b[0m \u001b[32m━━━━━━━\u001b[0m\u001b[37m━━━━━━━━━━━━━\u001b[0m \u001b[1m0s\u001b[0m 638us/step - accuracy: 0.8797 - loss: 0.4249\n",
      "\u001b[1m 793/1875\u001b[0m \u001b[32m━━━━━━━━\u001b[0m\u001b[37m━━━━━━━━━━━━\u001b[0m \u001b[1m0s\u001b[0m 635us/step - accuracy: 0.8802 - loss: 0.4231\n",
      "\u001b[1m 874/1875\u001b[0m \u001b[32m━━━━━━━━━\u001b[0m\u001b[37m━━━━━━━━━━━\u001b[0m \u001b[1m0s\u001b[0m 634us/step - accuracy: 0.8805 - loss: 0.4216\n",
      "\u001b[1m 954/1875\u001b[0m \u001b[32m━━━━━━━━━━\u001b[0m\u001b[37m━━━━━━━━━━\u001b[0m \u001b[1m0s\u001b[0m 633us/step - accuracy: 0.8809 - loss: 0.4202\n",
      "\u001b[1m1030/1875\u001b[0m \u001b[32m━━━━━━━━━━\u001b[0m\u001b[37m━━━━━━━━━━\u001b[0m \u001b[1m0s\u001b[0m 635us/step - accuracy: 0.8811 - loss: 0.4191\n",
      "\u001b[1m1109/1875\u001b[0m \u001b[32m━━━━━━━━━━━\u001b[0m\u001b[37m━━━━━━━━━\u001b[0m \u001b[1m0s\u001b[0m 636us/step - accuracy: 0.8814 - loss: 0.4178\n",
      "\u001b[1m1189/1875\u001b[0m \u001b[32m━━━━━━━━━━━━\u001b[0m\u001b[37m━━━━━━━━\u001b[0m \u001b[1m0s\u001b[0m 635us/step - accuracy: 0.8818 - loss: 0.4166\n",
      "\u001b[1m1270/1875\u001b[0m \u001b[32m━━━━━━━━━━━━━\u001b[0m\u001b[37m━━━━━━━\u001b[0m \u001b[1m0s\u001b[0m 635us/step - accuracy: 0.8821 - loss: 0.4152\n",
      "\u001b[1m1352/1875\u001b[0m \u001b[32m━━━━━━━━━━━━━━\u001b[0m\u001b[37m━━━━━━\u001b[0m \u001b[1m0s\u001b[0m 633us/step - accuracy: 0.8825 - loss: 0.4138\n",
      "\u001b[1m1433/1875\u001b[0m \u001b[32m━━━━━━━━━━━━━━━\u001b[0m\u001b[37m━━━━━\u001b[0m \u001b[1m0s\u001b[0m 632us/step - accuracy: 0.8828 - loss: 0.4125\n",
      "\u001b[1m1512/1875\u001b[0m \u001b[32m━━━━━━━━━━━━━━━━\u001b[0m\u001b[37m━━━━\u001b[0m \u001b[1m0s\u001b[0m 633us/step - accuracy: 0.8831 - loss: 0.4112\n",
      "\u001b[1m1593/1875\u001b[0m \u001b[32m━━━━━━━━━━━━━━━━\u001b[0m\u001b[37m━━━━\u001b[0m \u001b[1m0s\u001b[0m 632us/step - accuracy: 0.8835 - loss: 0.4100\n",
      "\u001b[1m1662/1875\u001b[0m \u001b[32m━━━━━━━━━━━━━━━━━\u001b[0m\u001b[37m━━━\u001b[0m \u001b[1m0s\u001b[0m 636us/step - accuracy: 0.8837 - loss: 0.4090\n",
      "\u001b[1m1737/1875\u001b[0m \u001b[32m━━━━━━━━━━━━━━━━━━\u001b[0m\u001b[37m━━\u001b[0m \u001b[1m0s\u001b[0m 638us/step - accuracy: 0.8840 - loss: 0.4080\n",
      "\u001b[1m1813/1875\u001b[0m \u001b[32m━━━━━━━━━━━━━━━━━━━\u001b[0m\u001b[37m━\u001b[0m \u001b[1m0s\u001b[0m 639us/step - accuracy: 0.8843 - loss: 0.4069\n",
      "  0%|          | 0/3 [00:02<?, ?trial/s, best loss=?]"
     ]
    },
    {
     "name": "stderr",
     "output_type": "stream",
     "text": [
      "2024/10/01 03:55:18 WARNING mlflow.utils.checkpoint_utils: Checkpoint logging is skipped, because checkpoint 'save_best_only' config is True, it requires to compare the monitored metric value, but the provided monitored metric value is not available.\n",
      "\n"
     ]
    },
    {
     "name": "stdout",
     "output_type": "stream",
     "text": [
      "\u001b[1m1875/1875\u001b[0m \u001b[32m━━━━━━━━━━━━━━━━━━━━\u001b[0m\u001b[37m\u001b[0m \u001b[1m1s\u001b[0m 641us/step - accuracy: 0.8846 - loss: 0.4060\n",
      "\n",
      "Epoch 3/3                                            \n",
      "\n",
      "\u001b[1m   1/1875\u001b[0m \u001b[37m━━━━━━━━━━━━━━━━━━━━\u001b[0m \u001b[1m21s\u001b[0m 12ms/step - accuracy: 0.9375 - loss: 0.2046\n",
      "\u001b[1m  78/1875\u001b[0m \u001b[37m━━━━━━━━━━━━━━━━━━━━\u001b[0m \u001b[1m1s\u001b[0m 652us/step - accuracy: 0.9101 - loss: 0.3261\n",
      "\u001b[1m 159/1875\u001b[0m \u001b[32m━\u001b[0m\u001b[37m━━━━━━━━━━━━━━━━━━━\u001b[0m \u001b[1m1s\u001b[0m 636us/step - accuracy: 0.9088 - loss: 0.3376\n",
      "\u001b[1m 241/1875\u001b[0m \u001b[32m━━\u001b[0m\u001b[37m━━━━━━━━━━━━━━━━━━\u001b[0m \u001b[1m1s\u001b[0m 630us/step - accuracy: 0.9075 - loss: 0.3421\n",
      "\u001b[1m 321/1875\u001b[0m \u001b[32m━━━\u001b[0m\u001b[37m━━━━━━━━━━━━━━━━━\u001b[0m \u001b[1m0s\u001b[0m 629us/step - accuracy: 0.9064 - loss: 0.3440\n",
      "\u001b[1m 401/1875\u001b[0m \u001b[32m━━━━\u001b[0m\u001b[37m━━━━━━━━━━━━━━━━\u001b[0m \u001b[1m0s\u001b[0m 628us/step - accuracy: 0.9057 - loss: 0.3447\n",
      "\u001b[1m 482/1875\u001b[0m \u001b[32m━━━━━\u001b[0m\u001b[37m━━━━━━━━━━━━━━━\u001b[0m \u001b[1m0s\u001b[0m 627us/step - accuracy: 0.9053 - loss: 0.3446\n",
      "\u001b[1m 562/1875\u001b[0m \u001b[32m━━━━━\u001b[0m\u001b[37m━━━━━━━━━━━━━━━\u001b[0m \u001b[1m0s\u001b[0m 626us/step - accuracy: 0.9051 - loss: 0.3442\n",
      "\u001b[1m 642/1875\u001b[0m \u001b[32m━━━━━━\u001b[0m\u001b[37m━━━━━━━━━━━━━━\u001b[0m \u001b[1m0s\u001b[0m 627us/step - accuracy: 0.9049 - loss: 0.3436\n",
      "\u001b[1m 722/1875\u001b[0m \u001b[32m━━━━━━━\u001b[0m\u001b[37m━━━━━━━━━━━━━\u001b[0m \u001b[1m0s\u001b[0m 627us/step - accuracy: 0.9049 - loss: 0.3429\n",
      "\u001b[1m 800/1875\u001b[0m \u001b[32m━━━━━━━━\u001b[0m\u001b[37m━━━━━━━━━━━━\u001b[0m \u001b[1m0s\u001b[0m 629us/step - accuracy: 0.9049 - loss: 0.3423\n",
      "\u001b[1m 881/1875\u001b[0m \u001b[32m━━━━━━━━━\u001b[0m\u001b[37m━━━━━━━━━━━\u001b[0m \u001b[1m0s\u001b[0m 628us/step - accuracy: 0.9049 - loss: 0.3416\n",
      "\u001b[1m 961/1875\u001b[0m \u001b[32m━━━━━━━━━━\u001b[0m\u001b[37m━━━━━━━━━━\u001b[0m \u001b[1m0s\u001b[0m 628us/step - accuracy: 0.9050 - loss: 0.3408\n",
      "\u001b[1m1042/1875\u001b[0m \u001b[32m━━━━━━━━━━━\u001b[0m\u001b[37m━━━━━━━━━\u001b[0m \u001b[1m0s\u001b[0m 627us/step - accuracy: 0.9052 - loss: 0.3398\n",
      "\u001b[1m1123/1875\u001b[0m \u001b[32m━━━━━━━━━━━\u001b[0m\u001b[37m━━━━━━━━━\u001b[0m \u001b[1m0s\u001b[0m 627us/step - accuracy: 0.9054 - loss: 0.3389\n",
      "\u001b[1m1203/1875\u001b[0m \u001b[32m━━━━━━━━━━━━\u001b[0m\u001b[37m━━━━━━━━\u001b[0m \u001b[1m0s\u001b[0m 626us/step - accuracy: 0.9055 - loss: 0.3381\n",
      "\u001b[1m1277/1875\u001b[0m \u001b[32m━━━━━━━━━━━━━\u001b[0m\u001b[37m━━━━━━━\u001b[0m \u001b[1m0s\u001b[0m 630us/step - accuracy: 0.9056 - loss: 0.3373\n",
      "\u001b[1m1355/1875\u001b[0m \u001b[32m━━━━━━━━━━━━━━\u001b[0m\u001b[37m━━━━━━\u001b[0m \u001b[1m0s\u001b[0m 631us/step - accuracy: 0.9057 - loss: 0.3366\n",
      "\u001b[1m1435/1875\u001b[0m \u001b[32m━━━━━━━━━━━━━━━\u001b[0m\u001b[37m━━━━━\u001b[0m \u001b[1m0s\u001b[0m 630us/step - accuracy: 0.9058 - loss: 0.3359\n",
      "\u001b[1m1515/1875\u001b[0m \u001b[32m━━━━━━━━━━━━━━━━\u001b[0m\u001b[37m━━━━\u001b[0m \u001b[1m0s\u001b[0m 630us/step - accuracy: 0.9059 - loss: 0.3351\n",
      "\u001b[1m1594/1875\u001b[0m \u001b[32m━━━━━━━━━━━━━━━━━\u001b[0m\u001b[37m━━━\u001b[0m \u001b[1m0s\u001b[0m 630us/step - accuracy: 0.9060 - loss: 0.3344\n",
      "\u001b[1m1645/1875\u001b[0m \u001b[32m━━━━━━━━━━━━━━━━━\u001b[0m\u001b[37m━━━\u001b[0m \u001b[1m0s\u001b[0m 642us/step - accuracy: 0.9061 - loss: 0.3339\n",
      "\u001b[1m1721/1875\u001b[0m \u001b[32m━━━━━━━━━━━━━━━━━━\u001b[0m\u001b[37m━━\u001b[0m \u001b[1m0s\u001b[0m 642us/step - accuracy: 0.9062 - loss: 0.3332\n",
      "\u001b[1m1798/1875\u001b[0m \u001b[32m━━━━━━━━━━━━━━━━━━━\u001b[0m\u001b[37m━\u001b[0m \u001b[1m0s\u001b[0m 643us/step - accuracy: 0.9063 - loss: 0.3326\n",
      "\u001b[1m1875/1875\u001b[0m \u001b[32m━━━━━━━━━━━━━━━━━━━━\u001b[0m\u001b[37m\u001b[0m \u001b[1m0s\u001b[0m 643us/step - accuracy: 0.9064 - loss: 0.3320\n",
      "  0%|          | 0/3 [00:03<?, ?trial/s, best loss=?]"
     ]
    },
    {
     "name": "stderr",
     "output_type": "stream",
     "text": [
      "2024/10/01 03:55:19 WARNING mlflow.utils.checkpoint_utils: Checkpoint logging is skipped, because checkpoint 'save_best_only' config is True, it requires to compare the monitored metric value, but the provided monitored metric value is not available.\n",
      "\n"
     ]
    },
    {
     "name": "stdout",
     "output_type": "stream",
     "text": [
      "\u001b[1m1875/1875\u001b[0m \u001b[32m━━━━━━━━━━━━━━━━━━━━\u001b[0m\u001b[37m\u001b[0m \u001b[1m1s\u001b[0m 646us/step - accuracy: 0.9064 - loss: 0.3320\n",
      "\n",
      "\u001b[1m1/1\u001b[0m \u001b[32m━━━━━━━━━━━━━━━━━━━━\u001b[0m\u001b[37m\u001b[0m \u001b[1m0s\u001b[0m 20ms/step\n",
      "\u001b[1m1/1\u001b[0m \u001b[32m━━━━━━━━━━━━━━━━━━━━\u001b[0m\u001b[37m\u001b[0m \u001b[1m0s\u001b[0m 21ms/step\n",
      "\n",
      "313/313 - 0s - 497us/step - accuracy: 0.9298 - loss: 0.2540\n",
      "\n",
      "eval_loss, eval_acc :                                \n",
      "0.2539557218551636                                   \n",
      "0.9297999739646912                                   \n",
      "Epoch 1/4                                                                      \n",
      "\n",
      "\u001b[1m   1/1875\u001b[0m \u001b[37m━━━━━━━━━━━━━━━━━━━━\u001b[0m \u001b[1m5:55\u001b[0m 190ms/step - accuracy: 0.0625 - loss: 2.3039\n",
      "\u001b[1m  53/1875\u001b[0m \u001b[37m━━━━━━━━━━━━━━━━━━━━\u001b[0m \u001b[1m1s\u001b[0m 972us/step - accuracy: 0.1934 - loss: 2.2961  \n",
      "\u001b[1m 107/1875\u001b[0m \u001b[32m━\u001b[0m\u001b[37m━━━━━━━━━━━━━━━━━━━\u001b[0m \u001b[1m1s\u001b[0m 952us/step - accuracy: 0.2611 - loss: 2.2847\n",
      "\u001b[1m 168/1875\u001b[0m \u001b[32m━\u001b[0m\u001b[37m━━━━━━━━━━━━━━━━━━━\u001b[0m \u001b[1m1s\u001b[0m 904us/step - accuracy: 0.3003 - loss: 2.2693\n",
      "\u001b[1m 230/1875\u001b[0m \u001b[32m━━\u001b[0m\u001b[37m━━━━━━━━━━━━━━━━━━\u001b[0m \u001b[1m1s\u001b[0m 881us/step - accuracy: 0.3260 - loss: 2.2519\n",
      "\u001b[1m 294/1875\u001b[0m \u001b[32m━━━\u001b[0m\u001b[37m━━━━━━━━━━━━━━━━━\u001b[0m \u001b[1m1s\u001b[0m 859us/step - accuracy: 0.3444 - loss: 2.2341\n",
      "\u001b[1m 355/1875\u001b[0m \u001b[32m━━━\u001b[0m\u001b[37m━━━━━━━━━━━━━━━━━\u001b[0m \u001b[1m1s\u001b[0m 853us/step - accuracy: 0.3578 - loss: 2.2175\n",
      "\u001b[1m 419/1875\u001b[0m \u001b[32m━━━━\u001b[0m\u001b[37m━━━━━━━━━━━━━━━━\u001b[0m \u001b[1m1s\u001b[0m 843us/step - accuracy: 0.3686 - loss: 2.2006\n",
      "\u001b[1m 482/1875\u001b[0m \u001b[32m━━━━━\u001b[0m\u001b[37m━━━━━━━━━━━━━━━\u001b[0m \u001b[1m1s\u001b[0m 837us/step - accuracy: 0.3773 - loss: 2.1844\n",
      "\u001b[1m 547/1875\u001b[0m \u001b[32m━━━━━\u001b[0m\u001b[37m━━━━━━━━━━━━━━━\u001b[0m \u001b[1m1s\u001b[0m 829us/step - accuracy: 0.3851 - loss: 2.1678\n",
      "\u001b[1m 614/1875\u001b[0m \u001b[32m━━━━━━\u001b[0m\u001b[37m━━━━━━━━━━━━━━\u001b[0m \u001b[1m1s\u001b[0m 821us/step - accuracy: 0.3920 - loss: 2.1512\n",
      "\u001b[1m 678/1875\u001b[0m \u001b[32m━━━━━━━\u001b[0m\u001b[37m━━━━━━━━━━━━━\u001b[0m \u001b[1m0s\u001b[0m 819us/step - accuracy: 0.3975 - loss: 2.1359\n",
      "\u001b[1m 744/1875\u001b[0m \u001b[32m━━━━━━━\u001b[0m\u001b[37m━━━━━━━━━━━━━\u001b[0m \u001b[1m0s\u001b[0m 814us/step - accuracy: 0.4026 - loss: 2.1205\n",
      "\u001b[1m 809/1875\u001b[0m \u001b[32m━━━━━━━━\u001b[0m\u001b[37m━━━━━━━━━━━━\u001b[0m \u001b[1m0s\u001b[0m 810us/step - accuracy: 0.4074 - loss: 2.1055\n",
      "\u001b[1m 876/1875\u001b[0m \u001b[32m━━━━━━━━━\u001b[0m\u001b[37m━━━━━━━━━━━\u001b[0m \u001b[1m0s\u001b[0m 806us/step - accuracy: 0.4120 - loss: 2.0904\n",
      "\u001b[1m 930/1875\u001b[0m \u001b[32m━━━━━━━━━\u001b[0m\u001b[37m━━━━━━━━━━━\u001b[0m \u001b[1m0s\u001b[0m 813us/step - accuracy: 0.4156 - loss: 2.0786\n",
      "\u001b[1m 992/1875\u001b[0m \u001b[32m━━━━━━━━━━\u001b[0m\u001b[37m━━━━━━━━━━\u001b[0m \u001b[1m0s\u001b[0m 813us/step - accuracy: 0.4196 - loss: 2.0652\n",
      "\u001b[1m1055/1875\u001b[0m \u001b[32m━━━━━━━━━━━\u001b[0m\u001b[37m━━━━━━━━━\u001b[0m \u001b[1m0s\u001b[0m 812us/step - accuracy: 0.4235 - loss: 2.0519\n",
      "\u001b[1m1114/1875\u001b[0m \u001b[32m━━━━━━━━━━━\u001b[0m\u001b[37m━━━━━━━━━\u001b[0m \u001b[1m0s\u001b[0m 815us/step - accuracy: 0.4270 - loss: 2.0398\n",
      "\u001b[1m1171/1875\u001b[0m \u001b[32m━━━━━━━━━━━━\u001b[0m\u001b[37m━━━━━━━━\u001b[0m \u001b[1m0s\u001b[0m 818us/step - accuracy: 0.4302 - loss: 2.0283\n",
      "\u001b[1m1234/1875\u001b[0m \u001b[32m━━━━━━━━━━━━━\u001b[0m\u001b[37m━━━━━━━\u001b[0m \u001b[1m0s\u001b[0m 817us/step - accuracy: 0.4336 - loss: 2.0159\n",
      "\u001b[1m1297/1875\u001b[0m \u001b[32m━━━━━━━━━━━━━\u001b[0m\u001b[37m━━━━━━━\u001b[0m \u001b[1m0s\u001b[0m 816us/step - accuracy: 0.4368 - loss: 2.0037\n",
      "\u001b[1m1360/1875\u001b[0m \u001b[32m━━━━━━━━━━━━━━\u001b[0m\u001b[37m━━━━━━\u001b[0m \u001b[1m0s\u001b[0m 815us/step - accuracy: 0.4399 - loss: 1.9918\n",
      "\u001b[1m1422/1875\u001b[0m \u001b[32m━━━━━━━━━━━━━━━\u001b[0m\u001b[37m━━━━━\u001b[0m \u001b[1m0s\u001b[0m 815us/step - accuracy: 0.4428 - loss: 1.9803\n",
      "\u001b[1m1484/1875\u001b[0m \u001b[32m━━━━━━━━━━━━━━━\u001b[0m\u001b[37m━━━━━\u001b[0m \u001b[1m0s\u001b[0m 815us/step - accuracy: 0.4455 - loss: 1.9691\n",
      "\u001b[1m1551/1875\u001b[0m \u001b[32m━━━━━━━━━━━━━━━━\u001b[0m\u001b[37m━━━━\u001b[0m \u001b[1m0s\u001b[0m 812us/step - accuracy: 0.4484 - loss: 1.9573\n",
      "\u001b[1m1618/1875\u001b[0m \u001b[32m━━━━━━━━━━━━━━━━━\u001b[0m\u001b[37m━━━\u001b[0m \u001b[1m0s\u001b[0m 810us/step - accuracy: 0.4511 - loss: 1.9457\n",
      "\u001b[1m1686/1875\u001b[0m \u001b[32m━━━━━━━━━━━━━━━━━\u001b[0m\u001b[37m━━━\u001b[0m \u001b[1m0s\u001b[0m 807us/step - accuracy: 0.4537 - loss: 1.9342\n",
      "\u001b[1m1755/1875\u001b[0m \u001b[32m━━━━━━━━━━━━━━━━━━\u001b[0m\u001b[37m━━\u001b[0m \u001b[1m0s\u001b[0m 805us/step - accuracy: 0.4563 - loss: 1.9228\n",
      "\u001b[1m1823/1875\u001b[0m \u001b[32m━━━━━━━━━━━━━━━━━━━\u001b[0m\u001b[37m━\u001b[0m \u001b[1m0s\u001b[0m 802us/step - accuracy: 0.4587 - loss: 1.9119\n",
      "\u001b[1m1875/1875\u001b[0m \u001b[32m━━━━━━━━━━━━━━━━━━━━\u001b[0m\u001b[37m\u001b[0m \u001b[1m2s\u001b[0m 801us/step - accuracy: 0.4605 - loss: 1.9035\n",
      "\n",
      "Epoch 2/4                                                                      \n",
      "\n",
      "\u001b[1m   1/1875\u001b[0m \u001b[37m━━━━━━━━━━━━━━━━━━━━\u001b[0m \u001b[1m19s\u001b[0m 11ms/step - accuracy: 0.5000 - loss: 1.4452\n",
      "\u001b[1m  65/1875\u001b[0m \u001b[37m━━━━━━━━━━━━━━━━━━━━\u001b[0m \u001b[1m1s\u001b[0m 790us/step - accuracy: 0.5552 - loss: 1.2797\n",
      "\u001b[1m 128/1875\u001b[0m \u001b[32m━\u001b[0m\u001b[37m━━━━━━━━━━━━━━━━━━━\u001b[0m \u001b[1m1s\u001b[0m 795us/step - accuracy: 0.5640 - loss: 1.2569\n",
      "\u001b[1m 196/1875\u001b[0m \u001b[32m━━\u001b[0m\u001b[37m━━━━━━━━━━━━━━━━━━\u001b[0m \u001b[1m1s\u001b[0m 777us/step - accuracy: 0.5688 - loss: 1.2434\n",
      "\u001b[1m 265/1875\u001b[0m \u001b[32m━━\u001b[0m\u001b[37m━━━━━━━━━━━━━━━━━━\u001b[0m \u001b[1m1s\u001b[0m 764us/step - accuracy: 0.5718 - loss: 1.2339\n",
      "\u001b[1m 330/1875\u001b[0m \u001b[32m━━━\u001b[0m\u001b[37m━━━━━━━━━━━━━━━━━\u001b[0m \u001b[1m1s\u001b[0m 765us/step - accuracy: 0.5737 - loss: 1.2274\n",
      "\u001b[1m 397/1875\u001b[0m \u001b[32m━━━━\u001b[0m\u001b[37m━━━━━━━━━━━━━━━━\u001b[0m \u001b[1m1s\u001b[0m 763us/step - accuracy: 0.5751 - loss: 1.2220\n",
      "\u001b[1m 465/1875\u001b[0m \u001b[32m━━━━\u001b[0m\u001b[37m━━━━━━━━━━━━━━━━\u001b[0m \u001b[1m1s\u001b[0m 760us/step - accuracy: 0.5760 - loss: 1.2181\n",
      "\u001b[1m 534/1875\u001b[0m \u001b[32m━━━━━\u001b[0m\u001b[37m━━━━━━━━━━━━━━━\u001b[0m \u001b[1m1s\u001b[0m 756us/step - accuracy: 0.5767 - loss: 1.2149\n",
      "\u001b[1m 602/1875\u001b[0m \u001b[32m━━━━━━\u001b[0m\u001b[37m━━━━━━━━━━━━━━\u001b[0m \u001b[1m0s\u001b[0m 754us/step - accuracy: 0.5773 - loss: 1.2120\n",
      "\u001b[1m 671/1875\u001b[0m \u001b[32m━━━━━━━\u001b[0m\u001b[37m━━━━━━━━━━━━━\u001b[0m \u001b[1m0s\u001b[0m 752us/step - accuracy: 0.5777 - loss: 1.2094\n",
      "\u001b[1m 730/1875\u001b[0m \u001b[32m━━━━━━━\u001b[0m\u001b[37m━━━━━━━━━━━━━\u001b[0m \u001b[1m0s\u001b[0m 760us/step - accuracy: 0.5780 - loss: 1.2071\n",
      "\u001b[1m 796/1875\u001b[0m \u001b[32m━━━━━━━━\u001b[0m\u001b[37m━━━━━━━━━━━━\u001b[0m \u001b[1m0s\u001b[0m 760us/step - accuracy: 0.5786 - loss: 1.2043\n",
      "\u001b[1m 863/1875\u001b[0m \u001b[32m━━━━━━━━━\u001b[0m\u001b[37m━━━━━━━━━━━\u001b[0m \u001b[1m0s\u001b[0m 759us/step - accuracy: 0.5792 - loss: 1.2016\n",
      "\u001b[1m 932/1875\u001b[0m \u001b[32m━━━━━━━━━\u001b[0m\u001b[37m━━━━━━━━━━━\u001b[0m \u001b[1m0s\u001b[0m 757us/step - accuracy: 0.5798 - loss: 1.1990\n",
      "\u001b[1m1000/1875\u001b[0m \u001b[32m━━━━━━━━━━\u001b[0m\u001b[37m━━━━━━━━━━\u001b[0m \u001b[1m0s\u001b[0m 755us/step - accuracy: 0.5803 - loss: 1.1967\n",
      "\u001b[1m1064/1875\u001b[0m \u001b[32m━━━━━━━━━━━\u001b[0m\u001b[37m━━━━━━━━━\u001b[0m \u001b[1m0s\u001b[0m 757us/step - accuracy: 0.5808 - loss: 1.1946\n",
      "\u001b[1m1131/1875\u001b[0m \u001b[32m━━━━━━━━━━━━\u001b[0m\u001b[37m━━━━━━━━\u001b[0m \u001b[1m0s\u001b[0m 757us/step - accuracy: 0.5812 - loss: 1.1925\n",
      "\u001b[1m1200/1875\u001b[0m \u001b[32m━━━━━━━━━━━━\u001b[0m\u001b[37m━━━━━━━━\u001b[0m \u001b[1m0s\u001b[0m 755us/step - accuracy: 0.5816 - loss: 1.1905\n",
      "\u001b[1m1268/1875\u001b[0m \u001b[32m━━━━━━━━━━━━━\u001b[0m\u001b[37m━━━━━━━\u001b[0m \u001b[1m0s\u001b[0m 755us/step - accuracy: 0.5820 - loss: 1.1885\n",
      "\u001b[1m1337/1875\u001b[0m \u001b[32m━━━━━━━━━━━━━━\u001b[0m\u001b[37m━━━━━━\u001b[0m \u001b[1m0s\u001b[0m 753us/step - accuracy: 0.5824 - loss: 1.1865\n",
      "\u001b[1m1404/1875\u001b[0m \u001b[32m━━━━━━━━━━━━━━\u001b[0m\u001b[37m━━━━━━\u001b[0m \u001b[1m0s\u001b[0m 753us/step - accuracy: 0.5827 - loss: 1.1847\n",
      "\u001b[1m1472/1875\u001b[0m \u001b[32m━━━━━━━━━━━━━━━\u001b[0m\u001b[37m━━━━━\u001b[0m \u001b[1m0s\u001b[0m 753us/step - accuracy: 0.5831 - loss: 1.1827\n",
      "\u001b[1m1540/1875\u001b[0m \u001b[32m━━━━━━━━━━━━━━━━\u001b[0m\u001b[37m━━━━\u001b[0m \u001b[1m0s\u001b[0m 752us/step - accuracy: 0.5834 - loss: 1.1809\n",
      "\u001b[1m1608/1875\u001b[0m \u001b[32m━━━━━━━━━━━━━━━━━\u001b[0m\u001b[37m━━━\u001b[0m \u001b[1m0s\u001b[0m 752us/step - accuracy: 0.5837 - loss: 1.1791\n",
      "\u001b[1m1676/1875\u001b[0m \u001b[32m━━━━━━━━━━━━━━━━━\u001b[0m\u001b[37m━━━\u001b[0m \u001b[1m0s\u001b[0m 751us/step - accuracy: 0.5840 - loss: 1.1774\n",
      "\u001b[1m1744/1875\u001b[0m \u001b[32m━━━━━━━━━━━━━━━━━━\u001b[0m\u001b[37m━━\u001b[0m \u001b[1m0s\u001b[0m 751us/step - accuracy: 0.5843 - loss: 1.1757\n",
      "\u001b[1m1813/1875\u001b[0m \u001b[32m━━━━━━━━━━━━━━━━━━━\u001b[0m\u001b[37m━\u001b[0m \u001b[1m0s\u001b[0m 750us/step - accuracy: 0.5847 - loss: 1.1739\n",
      "\u001b[1m1875/1875\u001b[0m \u001b[32m━━━━━━━━━━━━━━━━━━━━\u001b[0m\u001b[37m\u001b[0m \u001b[1m1s\u001b[0m 750us/step - accuracy: 0.5850 - loss: 1.1723\n",
      "\n",
      "Epoch 3/4                                                                      \n",
      "\n",
      "\u001b[1m   1/1875\u001b[0m \u001b[37m━━━━━━━━━━━━━━━━━━━━\u001b[0m \u001b[1m16s\u001b[0m 9ms/step - accuracy: 0.6250 - loss: 0.9334\n",
      "\u001b[1m  62/1875\u001b[0m \u001b[37m━━━━━━━━━━━━━━━━━━━━\u001b[0m \u001b[1m1s\u001b[0m 824us/step - accuracy: 0.6057 - loss: 1.0624\n",
      "\u001b[1m 129/1875\u001b[0m \u001b[32m━\u001b[0m\u001b[37m━━━━━━━━━━━━━━━━━━━\u001b[0m \u001b[1m1s\u001b[0m 785us/step - accuracy: 0.6047 - loss: 1.0711\n",
      "\u001b[1m 195/1875\u001b[0m \u001b[32m━━\u001b[0m\u001b[37m━━━━━━━━━━━━━━━━━━\u001b[0m \u001b[1m1s\u001b[0m 777us/step - accuracy: 0.6043 - loss: 1.0731\n",
      "\u001b[1m 263/1875\u001b[0m \u001b[32m━━\u001b[0m\u001b[37m━━━━━━━━━━━━━━━━━━\u001b[0m \u001b[1m1s\u001b[0m 768us/step - accuracy: 0.6065 - loss: 1.0705\n",
      "\u001b[1m 331/1875\u001b[0m \u001b[32m━━━\u001b[0m\u001b[37m━━━━━━━━━━━━━━━━━\u001b[0m \u001b[1m1s\u001b[0m 762us/step - accuracy: 0.6077 - loss: 1.0697\n",
      "\u001b[1m 393/1875\u001b[0m \u001b[32m━━━━\u001b[0m\u001b[37m━━━━━━━━━━━━━━━━\u001b[0m \u001b[1m1s\u001b[0m 771us/step - accuracy: 0.6085 - loss: 1.0697\n",
      "\u001b[1m 461/1875\u001b[0m \u001b[32m━━━━\u001b[0m\u001b[37m━━━━━━━━━━━━━━━━\u001b[0m \u001b[1m1s\u001b[0m 767us/step - accuracy: 0.6093 - loss: 1.0695\n",
      "\u001b[1m 528/1875\u001b[0m \u001b[32m━━━━━\u001b[0m\u001b[37m━━━━━━━━━━━━━━━\u001b[0m \u001b[1m1s\u001b[0m 765us/step - accuracy: 0.6100 - loss: 1.0692\n",
      "\u001b[1m 569/1875\u001b[0m \u001b[32m━━━━━━\u001b[0m\u001b[37m━━━━━━━━━━━━━━\u001b[0m \u001b[1m1s\u001b[0m 798us/step - accuracy: 0.6105 - loss: 1.0689\n",
      "\u001b[1m 634/1875\u001b[0m \u001b[32m━━━━━━\u001b[0m\u001b[37m━━━━━━━━━━━━━━\u001b[0m \u001b[1m0s\u001b[0m 795us/step - accuracy: 0.6112 - loss: 1.0686\n",
      "\u001b[1m 700/1875\u001b[0m \u001b[32m━━━━━━━\u001b[0m\u001b[37m━━━━━━━━━━━━━\u001b[0m \u001b[1m0s\u001b[0m 792us/step - accuracy: 0.6117 - loss: 1.0683\n",
      "\u001b[1m 766/1875\u001b[0m \u001b[32m━━━━━━━━\u001b[0m\u001b[37m━━━━━━━━━━━━\u001b[0m \u001b[1m0s\u001b[0m 789us/step - accuracy: 0.6123 - loss: 1.0680\n",
      "\u001b[1m 831/1875\u001b[0m \u001b[32m━━━━━━━━\u001b[0m\u001b[37m━━━━━━━━━━━━\u001b[0m \u001b[1m0s\u001b[0m 788us/step - accuracy: 0.6128 - loss: 1.0675\n",
      "\u001b[1m 899/1875\u001b[0m \u001b[32m━━━━━━━━━\u001b[0m\u001b[37m━━━━━━━━━━━\u001b[0m \u001b[1m0s\u001b[0m 784us/step - accuracy: 0.6133 - loss: 1.0672\n",
      "\u001b[1m 967/1875\u001b[0m \u001b[32m━━━━━━━━━━\u001b[0m\u001b[37m━━━━━━━━━━\u001b[0m \u001b[1m0s\u001b[0m 781us/step - accuracy: 0.6138 - loss: 1.0669\n",
      "\u001b[1m1035/1875\u001b[0m \u001b[32m━━━━━━━━━━━\u001b[0m\u001b[37m━━━━━━━━━\u001b[0m \u001b[1m0s\u001b[0m 778us/step - accuracy: 0.6143 - loss: 1.0667\n",
      "\u001b[1m1103/1875\u001b[0m \u001b[32m━━━━━━━━━━━\u001b[0m\u001b[37m━━━━━━━━━\u001b[0m \u001b[1m0s\u001b[0m 776us/step - accuracy: 0.6148 - loss: 1.0664\n",
      "\u001b[1m1171/1875\u001b[0m \u001b[32m━━━━━━━━━━━━\u001b[0m\u001b[37m━━━━━━━━\u001b[0m \u001b[1m0s\u001b[0m 774us/step - accuracy: 0.6152 - loss: 1.0662\n",
      "\u001b[1m1239/1875\u001b[0m \u001b[32m━━━━━━━━━━━━━\u001b[0m\u001b[37m━━━━━━━\u001b[0m \u001b[1m0s\u001b[0m 772us/step - accuracy: 0.6157 - loss: 1.0660\n",
      "\u001b[1m1305/1875\u001b[0m \u001b[32m━━━━━━━━━━━━━\u001b[0m\u001b[37m━━━━━━━\u001b[0m \u001b[1m0s\u001b[0m 771us/step - accuracy: 0.6161 - loss: 1.0657\n",
      "\u001b[1m1372/1875\u001b[0m \u001b[32m━━━━━━━━━━━━━━\u001b[0m\u001b[37m━━━━━━\u001b[0m \u001b[1m0s\u001b[0m 770us/step - accuracy: 0.6166 - loss: 1.0653\n",
      "\u001b[1m1440/1875\u001b[0m \u001b[32m━━━━━━━━━━━━━━━\u001b[0m\u001b[37m━━━━━\u001b[0m \u001b[1m0s\u001b[0m 769us/step - accuracy: 0.6171 - loss: 1.0649\n",
      "\u001b[1m1506/1875\u001b[0m \u001b[32m━━━━━━━━━━━━━━━━\u001b[0m\u001b[37m━━━━\u001b[0m \u001b[1m0s\u001b[0m 769us/step - accuracy: 0.6175 - loss: 1.0645\n",
      "\u001b[1m1574/1875\u001b[0m \u001b[32m━━━━━━━━━━━━━━━━\u001b[0m\u001b[37m━━━━\u001b[0m \u001b[1m0s\u001b[0m 768us/step - accuracy: 0.6180 - loss: 1.0641\n",
      "\u001b[1m1642/1875\u001b[0m \u001b[32m━━━━━━━━━━━━━━━━━\u001b[0m\u001b[37m━━━\u001b[0m \u001b[1m0s\u001b[0m 767us/step - accuracy: 0.6185 - loss: 1.0637\n",
      "\u001b[1m1711/1875\u001b[0m \u001b[32m━━━━━━━━━━━━━━━━━━\u001b[0m\u001b[37m━━\u001b[0m \u001b[1m0s\u001b[0m 765us/step - accuracy: 0.6190 - loss: 1.0632\n",
      "\u001b[1m1779/1875\u001b[0m \u001b[32m━━━━━━━━━━━━━━━━━━\u001b[0m\u001b[37m━━\u001b[0m \u001b[1m0s\u001b[0m 764us/step - accuracy: 0.6194 - loss: 1.0628\n",
      "\u001b[1m1843/1875\u001b[0m \u001b[32m━━━━━━━━━━━━━━━━━━━\u001b[0m\u001b[37m━\u001b[0m \u001b[1m0s\u001b[0m 765us/step - accuracy: 0.6199 - loss: 1.0624\n",
      "\u001b[1m1875/1875\u001b[0m \u001b[32m━━━━━━━━━━━━━━━━━━━━\u001b[0m\u001b[37m\u001b[0m \u001b[1m1s\u001b[0m 766us/step - accuracy: 0.6201 - loss: 1.0621\n",
      "\n",
      "Epoch 4/4                                                                      \n",
      "\n",
      "\u001b[1m   1/1875\u001b[0m \u001b[37m━━━━━━━━━━━━━━━━━━━━\u001b[0m \u001b[1m17s\u001b[0m 9ms/step - accuracy: 0.6562 - loss: 1.0199\n",
      "\u001b[1m  63/1875\u001b[0m \u001b[37m━━━━━━━━━━━━━━━━━━━━\u001b[0m \u001b[1m1s\u001b[0m 808us/step - accuracy: 0.6514 - loss: 1.0229\n",
      "\u001b[1m 130/1875\u001b[0m \u001b[32m━\u001b[0m\u001b[37m━━━━━━━━━━━━━━━━━━━\u001b[0m \u001b[1m1s\u001b[0m 780us/step - accuracy: 0.6526 - loss: 1.0196\n",
      "\u001b[1m 190/1875\u001b[0m \u001b[32m━━\u001b[0m\u001b[37m━━━━━━━━━━━━━━━━━━\u001b[0m \u001b[1m1s\u001b[0m 800us/step - accuracy: 0.6535 - loss: 1.0154\n",
      "\u001b[1m 256/1875\u001b[0m \u001b[32m━━\u001b[0m\u001b[37m━━━━━━━━━━━━━━━━━━\u001b[0m \u001b[1m1s\u001b[0m 790us/step - accuracy: 0.6541 - loss: 1.0129\n",
      "\u001b[1m 324/1875\u001b[0m \u001b[32m━━━\u001b[0m\u001b[37m━━━━━━━━━━━━━━━━━\u001b[0m \u001b[1m1s\u001b[0m 780us/step - accuracy: 0.6547 - loss: 1.0116\n",
      "\u001b[1m 392/1875\u001b[0m \u001b[32m━━━━\u001b[0m\u001b[37m━━━━━━━━━━━━━━━━\u001b[0m \u001b[1m1s\u001b[0m 773us/step - accuracy: 0.6550 - loss: 1.0110\n",
      "\u001b[1m 460/1875\u001b[0m \u001b[32m━━━━\u001b[0m\u001b[37m━━━━━━━━━━━━━━━━\u001b[0m \u001b[1m1s\u001b[0m 768us/step - accuracy: 0.6551 - loss: 1.0102\n",
      "\u001b[1m 528/1875\u001b[0m \u001b[32m━━━━━\u001b[0m\u001b[37m━━━━━━━━━━━━━━━\u001b[0m \u001b[1m1s\u001b[0m 765us/step - accuracy: 0.6553 - loss: 1.0091\n",
      "\u001b[1m 597/1875\u001b[0m \u001b[32m━━━━━━\u001b[0m\u001b[37m━━━━━━━━━━━━━━\u001b[0m \u001b[1m0s\u001b[0m 761us/step - accuracy: 0.6556 - loss: 1.0079\n",
      "\u001b[1m 665/1875\u001b[0m \u001b[32m━━━━━━━\u001b[0m\u001b[37m━━━━━━━━━━━━━\u001b[0m \u001b[1m0s\u001b[0m 759us/step - accuracy: 0.6557 - loss: 1.0070\n",
      "\u001b[1m 732/1875\u001b[0m \u001b[32m━━━━━━━\u001b[0m\u001b[37m━━━━━━━━━━━━━\u001b[0m \u001b[1m0s\u001b[0m 758us/step - accuracy: 0.6559 - loss: 1.0059\n",
      "\u001b[1m 800/1875\u001b[0m \u001b[32m━━━━━━━━\u001b[0m\u001b[37m━━━━━━━━━━━━\u001b[0m \u001b[1m0s\u001b[0m 757us/step - accuracy: 0.6561 - loss: 1.0051\n",
      "\u001b[1m 864/1875\u001b[0m \u001b[32m━━━━━━━━━\u001b[0m\u001b[37m━━━━━━━━━━━\u001b[0m \u001b[1m0s\u001b[0m 759us/step - accuracy: 0.6563 - loss: 1.0043\n",
      "\u001b[1m 932/1875\u001b[0m \u001b[32m━━━━━━━━━\u001b[0m\u001b[37m━━━━━━━━━━━\u001b[0m \u001b[1m0s\u001b[0m 758us/step - accuracy: 0.6565 - loss: 1.0037\n",
      "\u001b[1m 999/1875\u001b[0m \u001b[32m━━━━━━━━━━\u001b[0m\u001b[37m━━━━━━━━━━\u001b[0m \u001b[1m0s\u001b[0m 757us/step - accuracy: 0.6566 - loss: 1.0032\n",
      "\u001b[1m1067/1875\u001b[0m \u001b[32m━━━━━━━━━━━\u001b[0m\u001b[37m━━━━━━━━━\u001b[0m \u001b[1m0s\u001b[0m 756us/step - accuracy: 0.6566 - loss: 1.0027\n",
      "\u001b[1m1135/1875\u001b[0m \u001b[32m━━━━━━━━━━━━\u001b[0m\u001b[37m━━━━━━━━\u001b[0m \u001b[1m0s\u001b[0m 755us/step - accuracy: 0.6567 - loss: 1.0021\n",
      "\u001b[1m1203/1875\u001b[0m \u001b[32m━━━━━━━━━━━━\u001b[0m\u001b[37m━━━━━━━━\u001b[0m \u001b[1m0s\u001b[0m 755us/step - accuracy: 0.6568 - loss: 1.0015\n",
      "\u001b[1m1266/1875\u001b[0m \u001b[32m━━━━━━━━━━━━━\u001b[0m\u001b[37m━━━━━━━\u001b[0m \u001b[1m0s\u001b[0m 757us/step - accuracy: 0.6569 - loss: 1.0009\n",
      "\u001b[1m1324/1875\u001b[0m \u001b[32m━━━━━━━━━━━━━━\u001b[0m\u001b[37m━━━━━━\u001b[0m \u001b[1m0s\u001b[0m 762us/step - accuracy: 0.6570 - loss: 1.0005\n",
      "\u001b[1m1343/1875\u001b[0m \u001b[32m━━━━━━━━━━━━━━\u001b[0m\u001b[37m━━━━━━\u001b[0m \u001b[1m0s\u001b[0m 791us/step - accuracy: 0.6570 - loss: 1.0003\n",
      "\u001b[1m1377/1875\u001b[0m \u001b[32m━━━━━━━━━━━━━━\u001b[0m\u001b[37m━━━━━━\u001b[0m \u001b[1m0s\u001b[0m 808us/step - accuracy: 0.6571 - loss: 1.0000\n",
      "\u001b[1m1431/1875\u001b[0m \u001b[32m━━━━━━━━━━━━━━━\u001b[0m\u001b[37m━━━━━\u001b[0m \u001b[1m0s\u001b[0m 813us/step - accuracy: 0.6571 - loss: 0.9997\n",
      "\u001b[1m1488/1875\u001b[0m \u001b[32m━━━━━━━━━━━━━━━\u001b[0m\u001b[37m━━━━━\u001b[0m \u001b[1m0s\u001b[0m 816us/step - accuracy: 0.6572 - loss: 0.9994\n",
      "\u001b[1m1548/1875\u001b[0m \u001b[32m━━━━━━━━━━━━━━━━\u001b[0m\u001b[37m━━━━\u001b[0m \u001b[1m0s\u001b[0m 817us/step - accuracy: 0.6573 - loss: 0.9991\n",
      "\u001b[1m1588/1875\u001b[0m \u001b[32m━━━━━━━━━━━━━━━━\u001b[0m\u001b[37m━━━━\u001b[0m \u001b[1m0s\u001b[0m 828us/step - accuracy: 0.6573 - loss: 0.9989\n",
      "\u001b[1m1647/1875\u001b[0m \u001b[32m━━━━━━━━━━━━━━━━━\u001b[0m\u001b[37m━━━\u001b[0m \u001b[1m0s\u001b[0m 829us/step - accuracy: 0.6574 - loss: 0.9986\n",
      "\u001b[1m1710/1875\u001b[0m \u001b[32m━━━━━━━━━━━━━━━━━━\u001b[0m\u001b[37m━━\u001b[0m \u001b[1m0s\u001b[0m 828us/step - accuracy: 0.6575 - loss: 0.9983\n",
      "\u001b[1m1762/1875\u001b[0m \u001b[32m━━━━━━━━━━━━━━━━━━\u001b[0m\u001b[37m━━\u001b[0m \u001b[1m0s\u001b[0m 832us/step - accuracy: 0.6575 - loss: 0.9981\n",
      "\u001b[1m1820/1875\u001b[0m \u001b[32m━━━━━━━━━━━━━━━━━━━\u001b[0m\u001b[37m━\u001b[0m \u001b[1m0s\u001b[0m 833us/step - accuracy: 0.6576 - loss: 0.9978\n",
      "\u001b[1m1873/1875\u001b[0m \u001b[32m━━━━━━━━━━━━━━━━━━━\u001b[0m\u001b[37m━\u001b[0m \u001b[1m0s\u001b[0m 836us/step - accuracy: 0.6577 - loss: 0.9976\n",
      "\u001b[1m1875/1875\u001b[0m \u001b[32m━━━━━━━━━━━━━━━━━━━━\u001b[0m\u001b[37m\u001b[0m \u001b[1m2s\u001b[0m 837us/step - accuracy: 0.6577 - loss: 0.9976\n",
      "\n",
      " 33%|███▎      | 1/3 [01:16<00:14,  7.23s/trial, best loss: 0.2539557218551636]"
     ]
    },
    {
     "name": "stderr",
     "output_type": "stream",
     "text": [
      "2024/10/01 03:56:32 WARNING mlflow.utils.autologging_utils: Encountered unexpected error during tensorflow autologging: API request to http://mlflow-server:8888/api/2.0/mlflow/runs/log-batch failed with exception HTTPConnectionPool(host='mlflow-server', port=8888): Max retries exceeded with url: /api/2.0/mlflow/runs/log-batch (Caused by ResponseError('too many 500 error responses'))\n",
      "\n"
     ]
    },
    {
     "name": "stdout",
     "output_type": "stream",
     "text": [
      "313/313 - 0s - 561us/step - accuracy: 0.9118 - loss: 0.4469                    \n",
      "\n",
      "eval_loss, eval_acc :                                                          \n",
      "0.44688159227371216                                                            \n",
      "0.9118000268936157                                                             \n",
      "\u001b[1m   1/1875\u001b[0m \u001b[37m━━━━━━━━━━━━━━━━━━━━\u001b[0m \u001b[1m3:29\u001b[0m 112ms/step - accuracy: 0.2188 - loss: 2.3116\n",
      "\u001b[1m  90/1875\u001b[0m \u001b[37m━━━━━━━━━━━━━━━━━━━━\u001b[0m \u001b[1m1s\u001b[0m 563us/step - accuracy: 0.2001 - loss: 2.2184  \n",
      "\u001b[1m 189/1875\u001b[0m \u001b[32m━━\u001b[0m\u001b[37m━━━━━━━━━━━━━━━━━━\u001b[0m \u001b[1m0s\u001b[0m 534us/step - accuracy: 0.2785 - loss: 2.0876\n",
      "\u001b[1m 278/1875\u001b[0m \u001b[32m━━\u001b[0m\u001b[37m━━━━━━━━━━━━━━━━━━\u001b[0m \u001b[1m0s\u001b[0m 544us/step - accuracy: 0.3287 - loss: 1.9887\n",
      "\u001b[1m 380/1875\u001b[0m \u001b[32m━━━━\u001b[0m\u001b[37m━━━━━━━━━━━━━━━━\u001b[0m \u001b[1m0s\u001b[0m 529us/step - accuracy: 0.3717 - loss: 1.8934\n",
      "\u001b[1m 481/1875\u001b[0m \u001b[32m━━━━━\u001b[0m\u001b[37m━━━━━━━━━━━━━━━\u001b[0m \u001b[1m0s\u001b[0m 522us/step - accuracy: 0.4057 - loss: 1.8124\n",
      "\u001b[1m 589/1875\u001b[0m \u001b[32m━━━━━━\u001b[0m\u001b[37m━━━━━━━━━━━━━━\u001b[0m \u001b[1m0s\u001b[0m 512us/step - accuracy: 0.4359 - loss: 1.7370\n",
      "\u001b[1m 700/1875\u001b[0m \u001b[32m━━━━━━━\u001b[0m\u001b[37m━━━━━━━━━━━━━\u001b[0m \u001b[1m0s\u001b[0m 502us/step - accuracy: 0.4616 - loss: 1.6703\n",
      "\u001b[1m 812/1875\u001b[0m \u001b[32m━━━━━━━━\u001b[0m\u001b[37m━━━━━━━━━━━━\u001b[0m \u001b[1m0s\u001b[0m 495us/step - accuracy: 0.4835 - loss: 1.6121\n",
      "\u001b[1m 924/1875\u001b[0m \u001b[32m━━━━━━━━━\u001b[0m\u001b[37m━━━━━━━━━━━\u001b[0m \u001b[1m0s\u001b[0m 489us/step - accuracy: 0.5024 - loss: 1.5607\n",
      "\u001b[1m1035/1875\u001b[0m \u001b[32m━━━━━━━━━━━\u001b[0m\u001b[37m━━━━━━━━━\u001b[0m \u001b[1m0s\u001b[0m 485us/step - accuracy: 0.5188 - loss: 1.5152\n",
      "\u001b[1m1146/1875\u001b[0m \u001b[32m━━━━━━━━━━━━\u001b[0m\u001b[37m━━━━━━━━\u001b[0m \u001b[1m0s\u001b[0m 482us/step - accuracy: 0.5334 - loss: 1.4742\n",
      "\u001b[1m1256/1875\u001b[0m \u001b[32m━━━━━━━━━━━━━\u001b[0m\u001b[37m━━━━━━━\u001b[0m \u001b[1m0s\u001b[0m 480us/step - accuracy: 0.5464 - loss: 1.4373\n",
      "\u001b[1m1366/1875\u001b[0m \u001b[32m━━━━━━━━━━━━━━\u001b[0m\u001b[37m━━━━━━\u001b[0m \u001b[1m0s\u001b[0m 478us/step - accuracy: 0.5582 - loss: 1.4037\n",
      "\u001b[1m1473/1875\u001b[0m \u001b[32m━━━━━━━━━━━━━━━\u001b[0m\u001b[37m━━━━━\u001b[0m \u001b[1m0s\u001b[0m 477us/step - accuracy: 0.5686 - loss: 1.3738\n",
      "\u001b[1m1585/1875\u001b[0m \u001b[32m━━━━━━━━━━━━━━━━\u001b[0m\u001b[37m━━━━\u001b[0m \u001b[1m0s\u001b[0m 475us/step - accuracy: 0.5786 - loss: 1.3449\n",
      "\u001b[1m1696/1875\u001b[0m \u001b[32m━━━━━━━━━━━━━━━━━━\u001b[0m\u001b[37m━━\u001b[0m \u001b[1m0s\u001b[0m 474us/step - accuracy: 0.5877 - loss: 1.3185\n",
      "\u001b[1m1807/1875\u001b[0m \u001b[32m━━━━━━━━━━━━━━━━━━━\u001b[0m\u001b[37m━\u001b[0m \u001b[1m0s\u001b[0m 472us/step - accuracy: 0.5960 - loss: 1.2940\n",
      "\u001b[1m1875/1875\u001b[0m \u001b[32m━━━━━━━━━━━━━━━━━━━━\u001b[0m\u001b[37m\u001b[0m \u001b[1m1s\u001b[0m 472us/step - accuracy: 0.6010 - loss: 1.2796\n",
      "\n",
      " 67%|██████▋   | 2/3 [02:21<00:44, 44.11s/trial, best loss: 0.2539557218551636]"
     ]
    },
    {
     "name": "stderr",
     "output_type": "stream",
     "text": [
      "2024/10/01 03:57:36 WARNING mlflow.utils.autologging_utils: Encountered unexpected error during tensorflow autologging: API request to http://mlflow-server:8888/api/2.0/mlflow/runs/log-batch failed with exception HTTPConnectionPool(host='mlflow-server', port=8888): Max retries exceeded with url: /api/2.0/mlflow/runs/log-batch (Caused by ResponseError('too many 500 error responses'))\n",
      "\n"
     ]
    },
    {
     "name": "stdout",
     "output_type": "stream",
     "text": [
      "313/313 - 0s - 492us/step - accuracy: 0.8959 - loss: 0.4046                    \n",
      "\n",
      "eval_loss, eval_acc :                                                          \n",
      "0.4045772850513458                                                             \n",
      "0.8959000110626221                                                             \n",
      "100%|██████████| 3/3 [02:21<00:00, 47.10s/trial, best loss: 0.2539557218551636]\n"
     ]
    },
    {
     "data": {
      "text/html": [
       "<pre style=\"white-space:pre;overflow-x:auto;line-height:normal;font-family:Menlo,'DejaVu Sans Mono',consolas,'Courier New',monospace\"></pre>\n"
      ],
      "text/plain": []
     },
     "metadata": {},
     "output_type": "display_data"
    },
    {
     "name": "stdout",
     "output_type": "stream",
     "text": [
      "Epoch 1/3\n",
      "\u001b[1m1849/1875\u001b[0m \u001b[32m━━━━━━━━━━━━━━━━━━━\u001b[0m\u001b[37m━\u001b[0m \u001b[1m0s\u001b[0m 625us/step - accuracy: 0.6776 - loss: 1.1353"
     ]
    },
    {
     "name": "stderr",
     "output_type": "stream",
     "text": [
      "2024/10/01 03:57:37 WARNING mlflow.utils.checkpoint_utils: Checkpoint logging is skipped, because checkpoint 'save_best_only' config is True, it requires to compare the monitored metric value, but the provided monitored metric value is not available.\n"
     ]
    },
    {
     "name": "stdout",
     "output_type": "stream",
     "text": [
      "\u001b[1m1875/1875\u001b[0m \u001b[32m━━━━━━━━━━━━━━━━━━━━\u001b[0m\u001b[37m\u001b[0m \u001b[1m1s\u001b[0m 628us/step - accuracy: 0.6794 - loss: 1.1295\n",
      "Epoch 2/3\n",
      "\u001b[1m1867/1875\u001b[0m \u001b[32m━━━━━━━━━━━━━━━━━━━\u001b[0m\u001b[37m━\u001b[0m \u001b[1m0s\u001b[0m 619us/step - accuracy: 0.8810 - loss: 0.4118"
     ]
    },
    {
     "name": "stderr",
     "output_type": "stream",
     "text": [
      "2024/10/01 03:57:39 WARNING mlflow.utils.checkpoint_utils: Checkpoint logging is skipped, because checkpoint 'save_best_only' config is True, it requires to compare the monitored metric value, but the provided monitored metric value is not available.\n"
     ]
    },
    {
     "name": "stdout",
     "output_type": "stream",
     "text": [
      "\u001b[1m1875/1875\u001b[0m \u001b[32m━━━━━━━━━━━━━━━━━━━━\u001b[0m\u001b[37m\u001b[0m \u001b[1m1s\u001b[0m 621us/step - accuracy: 0.8811 - loss: 0.4117\n",
      "Epoch 3/3\n",
      "\u001b[1m1871/1875\u001b[0m \u001b[32m━━━━━━━━━━━━━━━━━━━\u001b[0m\u001b[37m━\u001b[0m \u001b[1m0s\u001b[0m 618us/step - accuracy: 0.9017 - loss: 0.3422"
     ]
    },
    {
     "name": "stderr",
     "output_type": "stream",
     "text": [
      "2024/10/01 03:57:40 WARNING mlflow.utils.checkpoint_utils: Checkpoint logging is skipped, because checkpoint 'save_best_only' config is True, it requires to compare the monitored metric value, but the provided monitored metric value is not available.\n"
     ]
    },
    {
     "name": "stdout",
     "output_type": "stream",
     "text": [
      "\u001b[1m1875/1875\u001b[0m \u001b[32m━━━━━━━━━━━━━━━━━━━━\u001b[0m\u001b[37m\u001b[0m \u001b[1m1s\u001b[0m 620us/step - accuracy: 0.9017 - loss: 0.3421\n",
      "\u001b[1m1/1\u001b[0m \u001b[32m━━━━━━━━━━━━━━━━━━━━\u001b[0m\u001b[37m\u001b[0m \u001b[1m0s\u001b[0m 16ms/step\n",
      "313/313 - 0s - 496us/step - accuracy: 0.9272 - loss: 0.2568\n",
      "eval_loss, eval_acc :  0.256752073764801 0.9272000193595886\n",
      "\u001b[1m1875/1875\u001b[0m \u001b[32m━━━━━━━━━━━━━━━━━━━━\u001b[0m\u001b[37m\u001b[0m \u001b[1m1s\u001b[0m 431us/step\n"
     ]
    },
    {
     "name": "stderr",
     "output_type": "stream",
     "text": [
      "2024/10/01 03:57:45 INFO mlflow.tracking._tracking_service.client: 🏃 View run hyperopt at: http://mlflow-server:8888/#/experiments/164989470878550937/runs/42d66e032a3d4d52a1f57c241e715799.\n",
      "2024/10/01 03:57:45 INFO mlflow.tracking._tracking_service.client: 🧪 View experiment at: http://mlflow-server:8888/#/experiments/164989470878550937.\n",
      "2024/10/01 03:57:45 INFO mlflow.system_metrics.system_metrics_monitor: Stopping system metrics monitoring...\n",
      "2024/10/01 03:57:45 INFO mlflow.system_metrics.system_metrics_monitor: Successfully terminated system metrics monitoring!\n"
     ]
    }
   ],
   "source": [
    "with mlflow.start_run(run_name='hyperopt') as run:\n",
    "    argmin = fmin(\n",
    "    fn= train_with_hyperopt,\n",
    "    space=search_params_space,\n",
    "    algo=algo,\n",
    "    max_evals = 3,\n",
    "    # for distrubuted training\n",
    "    #trials=spark_trials \n",
    "    )\n",
    "    b_epochs = epochs[argmin[\"epochs\"]]\n",
    "    b_optimizer = optimizer[argmin[\"optimizer\"]]\n",
    "    b_l1_activation = l1_activation[argmin[\"l1_activation\"]]\n",
    "    b_l1_droupout = l1_droupout[argmin[\"l1_droupout\"]]\n",
    "    b_l1_noNode =  l1_noNode[argmin[\"l1_noNode\"]]\n",
    "\n",
    "    best_model, eval_loss, eval_acc = train_model(p_epoch=b_epochs,p_optimizer=b_optimizer,\n",
    "                                             l1_activation=b_l1_activation,\n",
    "                                             l1_droupout=b_l1_droupout,\n",
    "                                             l1_noNode=b_l1_noNode)\n",
    "\n",
    "\n",
    "    mlflow.log_metric(\"eval_loss\",eval_loss)\n",
    "    mlflow.log_metric(\"eval_acc\",eval_acc)\n",
    "    model_signature = infer_signature(x_train,best_model.predict(x_train))\n",
    "    \n",
    "    mlflow.keras.log_model(best_model,\"ths_tune_model\",signature=model_signature)\n",
    "    "
   ]
  },
  {
   "cell_type": "code",
   "execution_count": 16,
   "metadata": {},
   "outputs": [
    {
     "data": {
      "text/plain": [
       "'loss'"
      ]
     },
     "execution_count": 16,
     "metadata": {},
     "output_type": "execute_result"
    }
   ],
   "source": [
    "eval_loss"
   ]
  },
  {
   "cell_type": "markdown",
   "metadata": {},
   "source": [
    "## Load trained tf model with Spark DataFrame"
   ]
  },
  {
   "cell_type": "markdown",
   "metadata": {},
   "source": [
    "#### Set MLflow backend URI"
   ]
  },
  {
   "cell_type": "code",
   "execution_count": 8,
   "metadata": {},
   "outputs": [
    {
     "data": {
      "text/plain": [
       "<Experiment: artifact_location='mlflow-artifacts:/164989470878550937', creation_time=1727753710182, experiment_id='164989470878550937', last_update_time=1727753710182, lifecycle_stage='active', name='distibuted_trainingAnd_params_tuning_with_mlflow_1', tags={}>"
      ]
     },
     "execution_count": 8,
     "metadata": {},
     "output_type": "execute_result"
    }
   ],
   "source": [
    "import mlflow\n",
    "import time\n",
    "mlflow_uri = \"http://mlflow-server:8888/\"\n",
    "mlflow.set_tracking_uri(mlflow_uri)\n",
    "time.sleep(5)\n",
    "mlflow.set_experiment(\"distibuted_trainingAnd_params_tuning_with_mlflow_1\")\n"
   ]
  },
  {
   "cell_type": "markdown",
   "metadata": {},
   "source": [
    "#### Initialize SparkSession"
   ]
  },
  {
   "cell_type": "code",
   "execution_count": 4,
   "metadata": {},
   "outputs": [],
   "source": [
    "from pyspark.sql import SparkSession\n",
    "spark = SparkSession.builder.appName(\"distibuted_trainingAnd_params_tuning\").master(\"spark://spark-master:7077\") \\\n",
    "        .getOrCreate()"
   ]
  },
  {
   "cell_type": "code",
   "execution_count": 86,
   "metadata": {},
   "outputs": [
    {
     "name": "stderr",
     "output_type": "stream",
     "text": [
      "Downloading artifacts: 100%|██████████| 6/6 [00:00<00:00, 483.74it/s] \n"
     ]
    }
   ],
   "source": [
    "from pyspark.sql.functions import struct, col\n",
    "logged_model = 'runs:/42d66e032a3d4d52a1f57c241e715799/ths_tune_model'\n",
    "\n",
    "# Load model as a Spark UDF. Override result_type if the model does not return double values.\n",
    "loaded_model =  mlflow.pyfunc.load_model(logged_model)\n"
   ]
  },
  {
   "cell_type": "markdown",
   "metadata": {},
   "source": [
    "#### Load dataset"
   ]
  },
  {
   "cell_type": "code",
   "execution_count": 87,
   "metadata": {},
   "outputs": [
    {
     "name": "stdout",
     "output_type": "stream",
     "text": [
      "(60000, 28, 28)\n",
      "(10000, 28, 28)\n"
     ]
    }
   ],
   "source": [
    "import pandas as pd\n",
    "mnist = tf.keras.datasets.mnist\n",
    "\n",
    "(x_train, y_train), (x_test, y_test) = mnist.load_data()\n",
    "x_train, x_test = x_train / 255.0, x_test / 255.0\n",
    "print(x_train.shape)\n",
    "\n",
    "print(x_test.shape)\n"
   ]
  },
  {
   "cell_type": "code",
   "execution_count": 88,
   "metadata": {},
   "outputs": [
    {
     "name": "stdout",
     "output_type": "stream",
     "text": [
      "\u001b[1m313/313\u001b[0m \u001b[32m━━━━━━━━━━━━━━━━━━━━\u001b[0m\u001b[37m\u001b[0m \u001b[1m0s\u001b[0m 408us/step\n",
      "[[ 0.91173494 -4.094929    1.3984468  ...  9.253896   -0.4773371\n",
      "   3.0403273 ]\n",
      " [ 0.98114586 -1.3896312   6.789165   ... -5.9696393   2.5919137\n",
      "  -6.384263  ]\n",
      " [-3.1095583   5.2870173   0.92341965 ...  0.23628187  0.32506043\n",
      "  -1.2479821 ]\n",
      " ...\n",
      " [-5.967502   -4.3101554  -2.7653966  ...  0.4528697   2.9413202\n",
      "   3.8203666 ]\n",
      " [-0.43791622 -1.2733117  -1.8666713  ... -2.9057598   3.5001671\n",
      "  -2.3443012 ]\n",
      " [ 2.5770714  -5.6271787   2.9896643  ... -5.8153663  -1.773751\n",
      "  -2.8399062 ]]\n"
     ]
    }
   ],
   "source": [
    "pred_ = loaded_model.predict(x_test)\n",
    "print(pred_)"
   ]
  },
  {
   "cell_type": "code",
   "execution_count": 65,
   "metadata": {},
   "outputs": [],
   "source": [
    "# Stop the SparkSession\n",
    "spark.stop()"
   ]
  },
  {
   "cell_type": "code",
   "execution_count": 82,
   "metadata": {},
   "outputs": [
    {
     "name": "stdout",
     "output_type": "stream",
     "text": [
      "(150, 4)\n"
     ]
    }
   ],
   "source": [
    "from sklearn.datasets import load_iris\n",
    "iris = load_iris()\n",
    "X = iris.data\n",
    "y = iris.target\n",
    "print(X.shape)"
   ]
  },
  {
   "cell_type": "code",
   "execution_count": null,
   "metadata": {},
   "outputs": [],
   "source": []
  }
 ],
 "metadata": {
  "kernelspec": {
   "display_name": "Python 3",
   "language": "python",
   "name": "python3"
  },
  "language_info": {
   "codemirror_mode": {
    "name": "ipython",
    "version": 3
   },
   "file_extension": ".py",
   "mimetype": "text/x-python",
   "name": "python",
   "nbconvert_exporter": "python",
   "pygments_lexer": "ipython3",
   "version": "3.12.6"
  }
 },
 "nbformat": 4,
 "nbformat_minor": 2
}
